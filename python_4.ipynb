{
 "cells": [
  {
   "cell_type": "markdown",
   "metadata": {
    "id": "EU8NIMxbMTs7"
   },
   "source": [
    "## Set Theory"
   ]
  },
  {
   "cell_type": "code",
   "execution_count": 1,
   "metadata": {
    "id": "DHBPKCenFnEW"
   },
   "outputs": [],
   "source": [
    "lst1 = [1, 8, 9, 0]"
   ]
  },
  {
   "cell_type": "code",
   "execution_count": 2,
   "metadata": {
    "colab": {
     "base_uri": "https://localhost:8080/"
    },
    "executionInfo": {
     "elapsed": 466,
     "status": "ok",
     "timestamp": 1680659231591,
     "user": {
      "displayName": "Srijit Panja",
      "userId": "08280687544370309018"
     },
     "user_tz": -330
    },
    "id": "3BtFeRZVFuia",
    "outputId": "39aa7150-544d-4889-e8d0-3fa65b42e0ff"
   },
   "outputs": [
    {
     "data": {
      "text/plain": [
       "{0, 1, 8, 9}"
      ]
     },
     "execution_count": 2,
     "metadata": {},
     "output_type": "execute_result"
    }
   ],
   "source": [
    "set(lst1)"
   ]
  },
  {
   "cell_type": "code",
   "execution_count": 3,
   "metadata": {
    "id": "VtpIxY4DMTs_"
   },
   "outputs": [],
   "source": [
    "## Union\n",
    "s1 = {1,2,3}\n",
    "s2 = {3,4,5}"
   ]
  },
  {
   "cell_type": "code",
   "execution_count": 4,
   "metadata": {
    "colab": {
     "base_uri": "https://localhost:8080/"
    },
    "executionInfo": {
     "elapsed": 357,
     "status": "ok",
     "timestamp": 1680659578945,
     "user": {
      "displayName": "Srijit Panja",
      "userId": "08280687544370309018"
     },
     "user_tz": -330
    },
    "id": "mJMq-RjtMTtB",
    "outputId": "5816231e-c785-4a5e-d02d-efe305ec606f"
   },
   "outputs": [
    {
     "data": {
      "text/plain": [
       "{1, 2, 3, 4, 5}"
      ]
     },
     "execution_count": 4,
     "metadata": {},
     "output_type": "execute_result"
    }
   ],
   "source": [
    "s1 | s2"
   ]
  },
  {
   "cell_type": "code",
   "execution_count": 5,
   "metadata": {
    "colab": {
     "base_uri": "https://localhost:8080/"
    },
    "executionInfo": {
     "elapsed": 382,
     "status": "ok",
     "timestamp": 1680659331723,
     "user": {
      "displayName": "Srijit Panja",
      "userId": "08280687544370309018"
     },
     "user_tz": -330
    },
    "id": "uBtSCXjwMTtB",
    "outputId": "9f001aee-815b-4bae-a2e2-c8f0c05b5537"
   },
   "outputs": [
    {
     "data": {
      "text/plain": [
       "{1, 2, 3, 4, 5}"
      ]
     },
     "execution_count": 5,
     "metadata": {},
     "output_type": "execute_result"
    }
   ],
   "source": [
    "s1.union(s2)"
   ]
  },
  {
   "cell_type": "code",
   "execution_count": 6,
   "metadata": {
    "id": "yLWMiQeSMTtC"
   },
   "outputs": [],
   "source": [
    "## Intersection\n",
    "s1 = {1,2,3}\n",
    "s2 = {3,4,5}"
   ]
  },
  {
   "cell_type": "code",
   "execution_count": 6,
   "metadata": {
    "colab": {
     "base_uri": "https://localhost:8080/"
    },
    "executionInfo": {
     "elapsed": 359,
     "status": "ok",
     "timestamp": 1680659853079,
     "user": {
      "displayName": "Srijit Panja",
      "userId": "08280687544370309018"
     },
     "user_tz": -330
    },
    "id": "yjOUyu3vMTtC",
    "outputId": "8241dd62-500f-4388-e95d-f8dee868b795"
   },
   "outputs": [
    {
     "data": {
      "text/plain": [
       "{3}"
      ]
     },
     "execution_count": 6,
     "metadata": {},
     "output_type": "execute_result"
    }
   ],
   "source": [
    "s1 & s2"
   ]
  },
  {
   "cell_type": "code",
   "execution_count": 7,
   "metadata": {
    "colab": {
     "base_uri": "https://localhost:8080/"
    },
    "executionInfo": {
     "elapsed": 1046,
     "status": "ok",
     "timestamp": 1680659380159,
     "user": {
      "displayName": "Srijit Panja",
      "userId": "08280687544370309018"
     },
     "user_tz": -330
    },
    "id": "-a2_ChuwMTtD",
    "outputId": "3ad7c9a3-1544-4261-de95-bbf818886785"
   },
   "outputs": [
    {
     "data": {
      "text/plain": [
       "{3}"
      ]
     },
     "execution_count": 7,
     "metadata": {},
     "output_type": "execute_result"
    }
   ],
   "source": [
    "s1.intersection(s2)"
   ]
  },
  {
   "cell_type": "code",
   "execution_count": 8,
   "metadata": {
    "id": "t0fxUS15I1R-"
   },
   "outputs": [],
   "source": [
    "s1 = {2, 3, 5, 6, 7}\n",
    "s2 = {5, 6, 7}"
   ]
  },
  {
   "cell_type": "code",
   "execution_count": 9,
   "metadata": {
    "colab": {
     "base_uri": "https://localhost:8080/"
    },
    "executionInfo": {
     "elapsed": 360,
     "status": "ok",
     "timestamp": 1680660023860,
     "user": {
      "displayName": "Srijit Panja",
      "userId": "08280687544370309018"
     },
     "user_tz": -330
    },
    "id": "bJoOgPO2JLK5",
    "outputId": "ac872a09-802d-444c-aa74-216248a3ce13"
   },
   "outputs": [
    {
     "data": {
      "text/plain": [
       "{2, 3}"
      ]
     },
     "execution_count": 9,
     "metadata": {},
     "output_type": "execute_result"
    }
   ],
   "source": [
    "s1 - s2"
   ]
  },
  {
   "cell_type": "code",
   "execution_count": 10,
   "metadata": {
    "colab": {
     "base_uri": "https://localhost:8080/"
    },
    "executionInfo": {
     "elapsed": 365,
     "status": "ok",
     "timestamp": 1680660111376,
     "user": {
      "displayName": "Srijit Panja",
      "userId": "08280687544370309018"
     },
     "user_tz": -330
    },
    "id": "opoGSJ0lJNlW",
    "outputId": "a30cc1fb-5317-41d8-9f50-53479020485d"
   },
   "outputs": [
    {
     "data": {
      "text/plain": [
       "set()"
      ]
     },
     "execution_count": 10,
     "metadata": {},
     "output_type": "execute_result"
    }
   ],
   "source": [
    "s2 - s1"
   ]
  },
  {
   "cell_type": "code",
   "execution_count": 12,
   "metadata": {
    "id": "62_saCQqMTtD"
   },
   "outputs": [],
   "source": [
    "## Difference\n",
    "s1 = {1,2,3,4,5,6}\n",
    "s2 = {5,6,7}"
   ]
  },
  {
   "cell_type": "code",
   "execution_count": 13,
   "metadata": {
    "colab": {
     "base_uri": "https://localhost:8080/"
    },
    "executionInfo": {
     "elapsed": 18,
     "status": "ok",
     "timestamp": 1677289681632,
     "user": {
      "displayName": "ashutosh upadhyay",
      "userId": "04009039228362967146"
     },
     "user_tz": -330
    },
    "id": "G0Lz8f-aMTtE",
    "outputId": "cc61e2d3-fbbb-479c-d2ca-bacfaa41f444"
   },
   "outputs": [
    {
     "data": {
      "text/plain": [
       "{1, 2, 3, 4}"
      ]
     },
     "execution_count": 13,
     "metadata": {},
     "output_type": "execute_result"
    }
   ],
   "source": [
    "s1-s2"
   ]
  },
  {
   "cell_type": "code",
   "execution_count": 14,
   "metadata": {
    "colab": {
     "base_uri": "https://localhost:8080/"
    },
    "executionInfo": {
     "elapsed": 431,
     "status": "ok",
     "timestamp": 1677289691878,
     "user": {
      "displayName": "ashutosh upadhyay",
      "userId": "04009039228362967146"
     },
     "user_tz": -330
    },
    "id": "wZdWlJrCMTtF",
    "outputId": "52ee80f3-fd63-49a0-bfd5-df4174b0f2e6"
   },
   "outputs": [
    {
     "data": {
      "text/plain": [
       "{1, 2, 3, 4}"
      ]
     },
     "execution_count": 14,
     "metadata": {},
     "output_type": "execute_result"
    }
   ],
   "source": [
    "s1.difference(s2)"
   ]
  },
  {
   "cell_type": "code",
   "execution_count": 15,
   "metadata": {
    "colab": {
     "base_uri": "https://localhost:8080/"
    },
    "executionInfo": {
     "elapsed": 438,
     "status": "ok",
     "timestamp": 1677289698697,
     "user": {
      "displayName": "ashutosh upadhyay",
      "userId": "04009039228362967146"
     },
     "user_tz": -330
    },
    "id": "8ln5ye36MTtF",
    "outputId": "d95d9f7a-eb68-4005-ac62-313c0eaa6003"
   },
   "outputs": [
    {
     "data": {
      "text/plain": [
       "{7}"
      ]
     },
     "execution_count": 15,
     "metadata": {},
     "output_type": "execute_result"
    }
   ],
   "source": [
    "s2-s1"
   ]
  },
  {
   "cell_type": "code",
   "execution_count": 16,
   "metadata": {
    "id": "h80k0eVAMTtG"
   },
   "outputs": [],
   "source": [
    "## Symmetric difference\n",
    "s1={1,2,3,4,5}\n",
    "s2={4,5,6,7,8}"
   ]
  },
  {
   "cell_type": "code",
   "execution_count": 16,
   "metadata": {
    "colab": {
     "base_uri": "https://localhost:8080/"
    },
    "executionInfo": {
     "elapsed": 330,
     "status": "ok",
     "timestamp": 1680660273851,
     "user": {
      "displayName": "Srijit Panja",
      "userId": "08280687544370309018"
     },
     "user_tz": -330
    },
    "id": "Iox_pkKXMTtG",
    "outputId": "c0374985-7312-4f7d-c01f-66d154f5157a"
   },
   "outputs": [
    {
     "data": {
      "text/plain": [
       "{1, 2, 3, 4, 7}"
      ]
     },
     "execution_count": 16,
     "metadata": {},
     "output_type": "execute_result"
    }
   ],
   "source": [
    "s1.symmetric_difference(s2)"
   ]
  },
  {
   "cell_type": "code",
   "execution_count": 17,
   "metadata": {
    "colab": {
     "base_uri": "https://localhost:8080/"
    },
    "executionInfo": {
     "elapsed": 332,
     "status": "ok",
     "timestamp": 1680660276830,
     "user": {
      "displayName": "Srijit Panja",
      "userId": "08280687544370309018"
     },
     "user_tz": -330
    },
    "id": "0o-9qdg7KAOJ",
    "outputId": "4de2a54f-b802-433a-a8d5-a5d72a9cbe22"
   },
   "outputs": [
    {
     "data": {
      "text/plain": [
       "{1, 2, 3, 4, 7}"
      ]
     },
     "execution_count": 17,
     "metadata": {},
     "output_type": "execute_result"
    }
   ],
   "source": [
    "s2.symmetric_difference(s1)"
   ]
  },
  {
   "cell_type": "code",
   "execution_count": 19,
   "metadata": {
    "id": "v9IiyCPJMTtG"
   },
   "outputs": [],
   "source": [
    "s1 = {1,2,3,4,5}\n",
    "s2 = {1,2,3}"
   ]
  },
  {
   "cell_type": "code",
   "execution_count": 20,
   "metadata": {},
   "outputs": [
    {
     "data": {
      "text/plain": [
       "True"
      ]
     },
     "execution_count": 20,
     "metadata": {},
     "output_type": "execute_result"
    }
   ],
   "source": [
    "s2.issubset(s1)"
   ]
  },
  {
   "cell_type": "code",
   "execution_count": 21,
   "metadata": {
    "colab": {
     "base_uri": "https://localhost:8080/"
    },
    "executionInfo": {
     "elapsed": 393,
     "status": "ok",
     "timestamp": 1680660534994,
     "user": {
      "displayName": "Srijit Panja",
      "userId": "08280687544370309018"
     },
     "user_tz": -330
    },
    "id": "nA7h5YrYMTtH",
    "outputId": "59ed2972-a330-4721-cb0b-e1a40f86899b"
   },
   "outputs": [
    {
     "data": {
      "text/plain": [
       "False"
      ]
     },
     "execution_count": 21,
     "metadata": {},
     "output_type": "execute_result"
    }
   ],
   "source": [
    "s2.issuperset(s1)"
   ]
  },
  {
   "cell_type": "markdown",
   "metadata": {
    "id": "3j8SWjWlMTtH"
   },
   "source": [
    "## Regular expressions"
   ]
  },
  {
   "cell_type": "markdown",
   "metadata": {},
   "source": [
    "re — Regular expression operations"
   ]
  },
  {
   "cell_type": "code",
   "execution_count": 22,
   "metadata": {
    "id": "mMCx2IfwMTtH"
   },
   "outputs": [],
   "source": [
    "import re"
   ]
  },
  {
   "cell_type": "code",
   "execution_count": 73,
   "metadata": {},
   "outputs": [
    {
     "data": {
      "text/plain": [
       "['A',\n",
       " 'ASCII',\n",
       " 'DEBUG',\n",
       " 'DOTALL',\n",
       " 'I',\n",
       " 'IGNORECASE',\n",
       " 'L',\n",
       " 'LOCALE',\n",
       " 'M',\n",
       " 'MULTILINE',\n",
       " 'Match',\n",
       " 'Pattern',\n",
       " 'RegexFlag',\n",
       " 'S',\n",
       " 'Scanner',\n",
       " 'T',\n",
       " 'TEMPLATE',\n",
       " 'U',\n",
       " 'UNICODE',\n",
       " 'VERBOSE',\n",
       " 'X',\n",
       " '_MAXCACHE',\n",
       " '__all__',\n",
       " '__builtins__',\n",
       " '__cached__',\n",
       " '__doc__',\n",
       " '__file__',\n",
       " '__loader__',\n",
       " '__name__',\n",
       " '__package__',\n",
       " '__spec__',\n",
       " '__version__',\n",
       " '_cache',\n",
       " '_compile',\n",
       " '_compile_repl',\n",
       " '_expand',\n",
       " '_locale',\n",
       " '_pickle',\n",
       " '_special_chars_map',\n",
       " '_subx',\n",
       " 'compile',\n",
       " 'copyreg',\n",
       " 'enum',\n",
       " 'error',\n",
       " 'escape',\n",
       " 'findall',\n",
       " 'finditer',\n",
       " 'fullmatch',\n",
       " 'functools',\n",
       " 'match',\n",
       " 'purge',\n",
       " 'search',\n",
       " 'split',\n",
       " 'sre_compile',\n",
       " 'sre_parse',\n",
       " 'sub',\n",
       " 'subn',\n",
       " 'template']"
      ]
     },
     "execution_count": 73,
     "metadata": {},
     "output_type": "execute_result"
    }
   ],
   "source": [
    "dir(re)"
   ]
  },
  {
   "cell_type": "code",
   "execution_count": 29,
   "metadata": {
    "id": "gZLlbK19MTtI"
   },
   "outputs": [],
   "source": [
    "str1 = \"Welcome to python session to learn\""
   ]
  },
  {
   "cell_type": "code",
   "execution_count": 30,
   "metadata": {
    "colab": {
     "base_uri": "https://localhost:8080/"
    },
    "executionInfo": {
     "elapsed": 7,
     "status": "ok",
     "timestamp": 1677289729935,
     "user": {
      "displayName": "ashutosh upadhyay",
      "userId": "04009039228362967146"
     },
     "user_tz": -330
    },
    "id": "na-dLoA4MTtI",
    "outputId": "6fd90bb4-5a65-4769-a50b-bdbf7580fd96"
   },
   "outputs": [
    {
     "data": {
      "text/plain": [
       "['to', 'to']"
      ]
     },
     "execution_count": 30,
     "metadata": {},
     "output_type": "execute_result"
    }
   ],
   "source": [
    "# Findall is used to return the no.of occurance of matched string in the given string\n",
    "x = re.findall('to',str1)\n",
    "x"
   ]
  },
  {
   "cell_type": "code",
   "execution_count": 32,
   "metadata": {},
   "outputs": [],
   "source": [
    "mystr =\"\"\"With the price drop, the base variant featuring M2 chipset, 8GB RAM and 256GB storage is priced at Rs 1,14,900 and the 512GB variant now costs Rs 1,44,900. Earlier, they were priced at Rs 1,19,900 and Rs 1,49,900, respectively.\n",
    "The Macbook M1 is priced at Rs 99,900, there’s no change in the pricing here. However, the laptop can be easily found selling at a discounted price on other e-commerce platforms or during the sale season.\"\"\""
   ]
  },
  {
   "cell_type": "code",
   "execution_count": 35,
   "metadata": {},
   "outputs": [
    {
     "data": {
      "text/plain": [
       "24"
      ]
     },
     "execution_count": 35,
     "metadata": {},
     "output_type": "execute_result"
    }
   ],
   "source": [
    "mystr.count('t')\n"
   ]
  },
  {
   "cell_type": "code",
   "execution_count": 36,
   "metadata": {},
   "outputs": [
    {
     "data": {
      "text/plain": [
       "['price', 'price', 'price', 'price', 'price']"
      ]
     },
     "execution_count": 36,
     "metadata": {},
     "output_type": "execute_result"
    }
   ],
   "source": [
    "re.findall(\"price\",mystr)"
   ]
  },
  {
   "cell_type": "code",
   "execution_count": 37,
   "metadata": {
    "colab": {
     "base_uri": "https://localhost:8080/"
    },
    "executionInfo": {
     "elapsed": 435,
     "status": "ok",
     "timestamp": 1680661234995,
     "user": {
      "displayName": "Srijit Panja",
      "userId": "08280687544370309018"
     },
     "user_tz": -330
    },
    "id": "vkCWOSvDNmFO",
    "outputId": "6a7e63fe-ae67-4115-e794-19ee0355e878"
   },
   "outputs": [
    {
     "data": {
      "text/plain": [
       "['e',\n",
       " 'e',\n",
       " 'e',\n",
       " 'e',\n",
       " 'e',\n",
       " 'e',\n",
       " 'e',\n",
       " 'e',\n",
       " 'e',\n",
       " 'e',\n",
       " 'e',\n",
       " 'e',\n",
       " 'e',\n",
       " 'e',\n",
       " 'e',\n",
       " 'e',\n",
       " 'e',\n",
       " 'e',\n",
       " 'e',\n",
       " 'e',\n",
       " 'e',\n",
       " 'e',\n",
       " 'e',\n",
       " 'e',\n",
       " 'e',\n",
       " 'e',\n",
       " 'e',\n",
       " 'e',\n",
       " 'e',\n",
       " 'e',\n",
       " 'e',\n",
       " 'e',\n",
       " 'e',\n",
       " 'e',\n",
       " 'e',\n",
       " 'e',\n",
       " 'e',\n",
       " 'e',\n",
       " 'e',\n",
       " 'e']"
      ]
     },
     "execution_count": 37,
     "metadata": {},
     "output_type": "execute_result"
    }
   ],
   "source": [
    "re.findall('e', mystr)"
   ]
  },
  {
   "cell_type": "code",
   "execution_count": 41,
   "metadata": {
    "colab": {
     "base_uri": "https://localhost:8080/"
    },
    "executionInfo": {
     "elapsed": 419,
     "status": "ok",
     "timestamp": 1677289736065,
     "user": {
      "displayName": "ashutosh upadhyay",
      "userId": "04009039228362967146"
     },
     "user_tz": -330
    },
    "id": "EpsXiYkLMTtI",
    "outputId": "517feff7-9fad-48fb-ee17-f01fbacc34f5"
   },
   "outputs": [
    {
     "data": {
      "text/plain": [
       "['Welcome']"
      ]
     },
     "execution_count": 41,
     "metadata": {},
     "output_type": "execute_result"
    }
   ],
   "source": [
    "y=re.findall('Welcome',str1)\n",
    "y"
   ]
  },
  {
   "cell_type": "code",
   "execution_count": 38,
   "metadata": {
    "colab": {
     "base_uri": "https://localhost:8080/"
    },
    "executionInfo": {
     "elapsed": 436,
     "status": "ok",
     "timestamp": 1677289741050,
     "user": {
      "displayName": "ashutosh upadhyay",
      "userId": "04009039228362967146"
     },
     "user_tz": -330
    },
    "id": "y1C5caB-MTtJ",
    "outputId": "cbc9787a-6c49-4208-9ba6-ef339639620c"
   },
   "outputs": [
    {
     "data": {
      "text/plain": [
       "[]"
      ]
     },
     "execution_count": 38,
     "metadata": {},
     "output_type": "execute_result"
    }
   ],
   "source": [
    "y=re.findall('abc',mystr)\n",
    "y"
   ]
  },
  {
   "cell_type": "code",
   "execution_count": 39,
   "metadata": {},
   "outputs": [
    {
     "data": {
      "text/plain": [
       "'Welcome to python session to learn'"
      ]
     },
     "execution_count": 39,
     "metadata": {},
     "output_type": "execute_result"
    }
   ],
   "source": [
    "str1"
   ]
  },
  {
   "cell_type": "markdown",
   "metadata": {},
   "source": [
    "Python regex re.search() method looks for occurrences of the regex pattern inside the entire target string and returns the corresponding Match Object instance where the match is found. The re.search() returns only the first match to the pattern from the target string"
   ]
  },
  {
   "cell_type": "code",
   "execution_count": 41,
   "metadata": {},
   "outputs": [
    {
     "data": {
      "text/plain": [
       "'Welcome to python session to learn'"
      ]
     },
     "execution_count": 41,
     "metadata": {},
     "output_type": "execute_result"
    }
   ],
   "source": [
    "str1"
   ]
  },
  {
   "cell_type": "code",
   "execution_count": 42,
   "metadata": {
    "colab": {
     "base_uri": "https://localhost:8080/"
    },
    "executionInfo": {
     "elapsed": 386,
     "status": "ok",
     "timestamp": 1680661380753,
     "user": {
      "displayName": "Srijit Panja",
      "userId": "08280687544370309018"
     },
     "user_tz": -330
    },
    "id": "9OPxe70qMTtJ",
    "outputId": "2222de56-999e-41bc-bbb7-c6288198c772"
   },
   "outputs": [
    {
     "data": {
      "text/plain": [
       "<re.Match object; span=(8, 10), match='to'>"
      ]
     },
     "execution_count": 42,
     "metadata": {},
     "output_type": "execute_result"
    }
   ],
   "source": [
    "# Search() method is used to display the matched string\n",
    "x=re.search('to',str1)\n",
    "x"
   ]
  },
  {
   "cell_type": "code",
   "execution_count": 43,
   "metadata": {},
   "outputs": [
    {
     "data": {
      "text/plain": [
       "<re.Match object; span=(15, 17), match='on'>"
      ]
     },
     "execution_count": 43,
     "metadata": {},
     "output_type": "execute_result"
    }
   ],
   "source": [
    "re.search('on',str1)"
   ]
  },
  {
   "cell_type": "code",
   "execution_count": 34,
   "metadata": {
    "colab": {
     "base_uri": "https://localhost:8080/"
    },
    "executionInfo": {
     "elapsed": 361,
     "status": "ok",
     "timestamp": 1680661529884,
     "user": {
      "displayName": "Srijit Panja",
      "userId": "08280687544370309018"
     },
     "user_tz": -330
    },
    "id": "jIRtbZ-6O39w",
    "outputId": "cc75bec4-fbeb-4340-ff99-fa557cef1925"
   },
   "outputs": [
    {
     "data": {
      "text/plain": [
       "1"
      ]
     },
     "execution_count": 34,
     "metadata": {},
     "output_type": "execute_result"
    }
   ],
   "source": [
    "str1.index('e')"
   ]
  },
  {
   "cell_type": "code",
   "execution_count": 35,
   "metadata": {},
   "outputs": [
    {
     "data": {
      "text/plain": [
       "'Welcome to python session'"
      ]
     },
     "execution_count": 35,
     "metadata": {},
     "output_type": "execute_result"
    }
   ],
   "source": [
    "str1"
   ]
  },
  {
   "cell_type": "code",
   "execution_count": 44,
   "metadata": {
    "colab": {
     "base_uri": "https://localhost:8080/"
    },
    "executionInfo": {
     "elapsed": 342,
     "status": "ok",
     "timestamp": 1680661568007,
     "user": {
      "displayName": "Srijit Panja",
      "userId": "08280687544370309018"
     },
     "user_tz": -330
    },
    "id": "kSN-tLtaMTtJ",
    "outputId": "f28a6afe-7550-4bf0-fd13-2de7b99432a0"
   },
   "outputs": [
    {
     "data": {
      "text/plain": [
       "<re.Match object; span=(11, 17), match='python'>"
      ]
     },
     "execution_count": 44,
     "metadata": {},
     "output_type": "execute_result"
    }
   ],
   "source": [
    "x=re.search('python',str1)\n",
    "x"
   ]
  },
  {
   "cell_type": "code",
   "execution_count": 47,
   "metadata": {
    "id": "ARv2fHpCMTtJ"
   },
   "outputs": [],
   "source": [
    "x=re.search(\"abc\",str1)\n",
    "x"
   ]
  },
  {
   "cell_type": "code",
   "execution_count": 48,
   "metadata": {
    "id": "6roZ9qhHMTtK"
   },
   "outputs": [],
   "source": [
    "str1='Hello,world, Hi'"
   ]
  },
  {
   "cell_type": "markdown",
   "metadata": {},
   "source": [
    "re.split(pattern, string)\n",
    "Split string by the occurrences of pattern."
   ]
  },
  {
   "cell_type": "code",
   "execution_count": 49,
   "metadata": {
    "colab": {
     "base_uri": "https://localhost:8080/"
    },
    "executionInfo": {
     "elapsed": 351,
     "status": "ok",
     "timestamp": 1680661681902,
     "user": {
      "displayName": "Srijit Panja",
      "userId": "08280687544370309018"
     },
     "user_tz": -330
    },
    "id": "s5wjSR8QMTtK",
    "outputId": "8d406dc6-bf9f-4ee5-c446-88d3c151ba6f"
   },
   "outputs": [
    {
     "data": {
      "text/plain": [
       "['Hello', 'world', ' Hi']"
      ]
     },
     "execution_count": 49,
     "metadata": {},
     "output_type": "execute_result"
    }
   ],
   "source": [
    "z=re.split(\",\",str1)\n",
    "z"
   ]
  },
  {
   "cell_type": "code",
   "execution_count": 47,
   "metadata": {
    "colab": {
     "base_uri": "https://localhost:8080/"
    },
    "executionInfo": {
     "elapsed": 378,
     "status": "ok",
     "timestamp": 1680661734400,
     "user": {
      "displayName": "Srijit Panja",
      "userId": "08280687544370309018"
     },
     "user_tz": -330
    },
    "id": "A06qv99WPpx6",
    "outputId": "20044f68-0480-4634-c035-3c16395f1554"
   },
   "outputs": [
    {
     "data": {
      "text/plain": [
       "['Hello', 'world', ' Hi']"
      ]
     },
     "execution_count": 47,
     "metadata": {},
     "output_type": "execute_result"
    }
   ],
   "source": [
    "str1.split(',')"
   ]
  },
  {
   "cell_type": "code",
   "execution_count": 52,
   "metadata": {
    "id": "9ijpk71nQPZz"
   },
   "outputs": [],
   "source": [
    "x = 'Welcome to python session'"
   ]
  },
  {
   "cell_type": "code",
   "execution_count": 56,
   "metadata": {
    "colab": {
     "base_uri": "https://localhost:8080/"
    },
    "executionInfo": {
     "elapsed": 353,
     "status": "ok",
     "timestamp": 1680662014725,
     "user": {
      "displayName": "Srijit Panja",
      "userId": "08280687544370309018"
     },
     "user_tz": -330
    },
    "id": "OIvZpo3rQW6K",
    "outputId": "03ae8fae-3ddf-43ad-c34a-877a1691051b"
   },
   "outputs": [
    {
     "data": {
      "text/plain": [
       "['Welcome', 'to', 'python', 'session']"
      ]
     },
     "execution_count": 56,
     "metadata": {},
     "output_type": "execute_result"
    }
   ],
   "source": [
    "re.split(\" \", x)"
   ]
  },
  {
   "cell_type": "code",
   "execution_count": 57,
   "metadata": {
    "id": "vxrnkPpmMTtK"
   },
   "outputs": [
    {
     "data": {
      "text/plain": [
       "['Hello,world,', 'Hi']"
      ]
     },
     "execution_count": 57,
     "metadata": {},
     "output_type": "execute_result"
    }
   ],
   "source": [
    "z = \"Hello how are you\"\n",
    "z=re.split(\" \",str1)\n",
    "z"
   ]
  },
  {
   "cell_type": "markdown",
   "metadata": {},
   "source": [
    "re.sub(pattern, repl, string)\n",
    "Return the string obtained by replacing the leftmost non-overlapping occurrences of pattern in string by the replacement repl. If the pattern isn’t found, string is returned unchanged."
   ]
  },
  {
   "cell_type": "code",
   "execution_count": 63,
   "metadata": {
    "id": "01576vM6MTtK"
   },
   "outputs": [],
   "source": [
    "import re\n",
    "str2='Hi Python, Hello Python'"
   ]
  },
  {
   "cell_type": "code",
   "execution_count": 68,
   "metadata": {
    "id": "DhyVI3YtMTtL"
   },
   "outputs": [
    {
     "data": {
      "text/plain": [
       "'Hi Analytics, Hello Python'"
      ]
     },
     "execution_count": 68,
     "metadata": {},
     "output_type": "execute_result"
    }
   ],
   "source": [
    "re.sub('Python','Analytics',str2,1)"
   ]
  },
  {
   "cell_type": "code",
   "execution_count": 69,
   "metadata": {
    "colab": {
     "base_uri": "https://localhost:8080/",
     "height": 35
    },
    "executionInfo": {
     "elapsed": 17,
     "status": "ok",
     "timestamp": 1680661802567,
     "user": {
      "displayName": "Srijit Panja",
      "userId": "08280687544370309018"
     },
     "user_tz": -330
    },
    "id": "ZXDL8cslMTtL",
    "outputId": "616f18d9-8004-4ae5-b77b-c160be64391e"
   },
   "outputs": [
    {
     "data": {
      "text/plain": [
       "'Hi Python, Hello Python'"
      ]
     },
     "execution_count": 69,
     "metadata": {},
     "output_type": "execute_result"
    }
   ],
   "source": [
    "str2"
   ]
  },
  {
   "cell_type": "markdown",
   "metadata": {},
   "source": [
    "re.match(pattern, string)\n",
    "If zero or more characters at the beginning of string match the regular expression pattern, return a corresponding match object. Return None if the string does not match the pattern."
   ]
  },
  {
   "cell_type": "code",
   "execution_count": 70,
   "metadata": {
    "colab": {
     "base_uri": "https://localhost:8080/"
    },
    "executionInfo": {
     "elapsed": 341,
     "status": "ok",
     "timestamp": 1680662058502,
     "user": {
      "displayName": "Srijit Panja",
      "userId": "08280687544370309018"
     },
     "user_tz": -330
    },
    "id": "q4GdY9kuMTtL",
    "outputId": "bab47195-4329-42bf-cb40-8267b3f24f22"
   },
   "outputs": [
    {
     "data": {
      "text/plain": [
       "<re.Match object; span=(0, 2), match='Hi'>"
      ]
     },
     "execution_count": 70,
     "metadata": {},
     "output_type": "execute_result"
    }
   ],
   "source": [
    "import re\n",
    "str3 = 'Hi Python, Hello Python'\n",
    "x=re.match('Hi',str3)\n",
    "x"
   ]
  },
  {
   "cell_type": "code",
   "execution_count": 72,
   "metadata": {
    "id": "CtZs5-C0MTtL"
   },
   "outputs": [],
   "source": [
    "x=re.match(\"Hello\",str2)\n",
    "x"
   ]
  },
  {
   "cell_type": "markdown",
   "metadata": {
    "id": "fsMrtH0jMTtL"
   },
   "source": [
    "## Assigning values"
   ]
  },
  {
   "cell_type": "code",
   "execution_count": 1,
   "metadata": {
    "colab": {
     "base_uri": "https://localhost:8080/"
    },
    "executionInfo": {
     "elapsed": 357,
     "status": "ok",
     "timestamp": 1680662486046,
     "user": {
      "displayName": "Srijit Panja",
      "userId": "08280687544370309018"
     },
     "user_tz": -330
    },
    "id": "D7HHQCT-MTtL",
    "outputId": "34f0448b-c090-46f2-ceba-d0b1735543f4"
   },
   "outputs": [
    {
     "data": {
      "text/plain": [
       "(1, 'xyz', 5.5)"
      ]
     },
     "execution_count": 1,
     "metadata": {},
     "output_type": "execute_result"
    }
   ],
   "source": [
    "# '=' is used for assignment\n",
    "a,b,c = 1,'xyz',5.5\n",
    "a,b,c"
   ]
  },
  {
   "cell_type": "code",
   "execution_count": 4,
   "metadata": {},
   "outputs": [
    {
     "data": {
      "text/plain": [
       "5.5"
      ]
     },
     "execution_count": 4,
     "metadata": {},
     "output_type": "execute_result"
    }
   ],
   "source": [
    "c"
   ]
  },
  {
   "cell_type": "code",
   "execution_count": 5,
   "metadata": {
    "id": "nhBiu2MFSel8"
   },
   "outputs": [],
   "source": [
    "a,b,c = 1, 'ki', 8.97"
   ]
  },
  {
   "cell_type": "code",
   "execution_count": 7,
   "metadata": {
    "colab": {
     "base_uri": "https://localhost:8080/"
    },
    "executionInfo": {
     "elapsed": 364,
     "status": "ok",
     "timestamp": 1680662551107,
     "user": {
      "displayName": "Srijit Panja",
      "userId": "08280687544370309018"
     },
     "user_tz": -330
    },
    "id": "q20GuKnf7g-O",
    "outputId": "edc34886-077c-46bc-a651-515284f27e9c"
   },
   "outputs": [
    {
     "data": {
      "text/plain": [
       "'ki'"
      ]
     },
     "execution_count": 7,
     "metadata": {},
     "output_type": "execute_result"
    }
   ],
   "source": [
    "b"
   ]
  },
  {
   "cell_type": "code",
   "execution_count": 11,
   "metadata": {
    "colab": {
     "base_uri": "https://localhost:8080/",
     "height": 35
    },
    "executionInfo": {
     "elapsed": 12,
     "status": "ok",
     "timestamp": 1674583071416,
     "user": {
      "displayName": "Chennaveer Jogur",
      "userId": "08412919184894538156"
     },
     "user_tz": -330
    },
    "id": "eAxgWeLbMTtM",
    "outputId": "934add97-e99e-41e3-d04c-f261ada66cbd"
   },
   "outputs": [
    {
     "data": {
      "text/plain": [
       "'This a line string'"
      ]
     },
     "execution_count": 11,
     "metadata": {},
     "output_type": "execute_result"
    }
   ],
   "source": [
    "## Multiple strings\n",
    "a_str = 'This a line string'\n",
    "a_str"
   ]
  },
  {
   "cell_type": "code",
   "execution_count": 12,
   "metadata": {
    "colab": {
     "base_uri": "https://localhost:8080/",
     "height": 35
    },
    "executionInfo": {
     "elapsed": 14,
     "status": "ok",
     "timestamp": 1680662742739,
     "user": {
      "displayName": "Srijit Panja",
      "userId": "08280687544370309018"
     },
     "user_tz": -330
    },
    "id": "WsfHWLOHMTtM",
    "outputId": "bf8f1556-f283-4781-a84d-ebb2826a2225"
   },
   "outputs": [
    {
     "data": {
      "text/plain": [
       "'This is\\na multiline\\nstring\\ngytu\\nhyui\\nio'"
      ]
     },
     "execution_count": 12,
     "metadata": {},
     "output_type": "execute_result"
    }
   ],
   "source": [
    "a_str1 = '''This is\n",
    "a multiline\n",
    "string\n",
    "gytu\n",
    "hyui\n",
    "io'''\n",
    "a_str1"
   ]
  },
  {
   "cell_type": "code",
   "execution_count": 13,
   "metadata": {
    "colab": {
     "base_uri": "https://localhost:8080/"
    },
    "executionInfo": {
     "elapsed": 343,
     "status": "ok",
     "timestamp": 1680662764599,
     "user": {
      "displayName": "Srijit Panja",
      "userId": "08280687544370309018"
     },
     "user_tz": -330
    },
    "id": "6MLlc4cLMTtM",
    "outputId": "33d8230f-f342-47e8-91e7-b95d6c077ab7"
   },
   "outputs": [
    {
     "name": "stdout",
     "output_type": "stream",
     "text": [
      "This is\n",
      "a multiline\n",
      "string\n",
      "gytu\n",
      "hyui\n",
      "io\n"
     ]
    }
   ],
   "source": [
    "print(a_str1)"
   ]
  },
  {
   "cell_type": "markdown",
   "metadata": {
    "id": "5fHASFHvMTtM"
   },
   "source": [
    "## Getting input from users"
   ]
  },
  {
   "cell_type": "code",
   "execution_count": 68,
   "metadata": {},
   "outputs": [
    {
     "name": "stdout",
     "output_type": "stream",
     "text": [
      "Enter the value of x: 80\n",
      "80\n"
     ]
    }
   ],
   "source": [
    "x = input(\"Enter the value of x: \")\n",
    "print(x)"
   ]
  },
  {
   "cell_type": "code",
   "execution_count": 69,
   "metadata": {},
   "outputs": [
    {
     "data": {
      "text/plain": [
       "str"
      ]
     },
     "execution_count": 69,
     "metadata": {},
     "output_type": "execute_result"
    }
   ],
   "source": [
    "type(x)"
   ]
  },
  {
   "cell_type": "code",
   "execution_count": 70,
   "metadata": {},
   "outputs": [
    {
     "name": "stdout",
     "output_type": "stream",
     "text": [
      "Enter your name: Srinivas\n",
      "Your name is  Srinivas\n"
     ]
    }
   ],
   "source": [
    "myname = input(\"Enter your name: \")\n",
    "print(\"Your name is \", myname)"
   ]
  },
  {
   "cell_type": "code",
   "execution_count": 71,
   "metadata": {
    "colab": {
     "base_uri": "https://localhost:8080/",
     "height": 70
    },
    "executionInfo": {
     "elapsed": 7543,
     "status": "ok",
     "timestamp": 1680663646018,
     "user": {
      "displayName": "Srijit Panja",
      "userId": "08280687544370309018"
     },
     "user_tz": -330
    },
    "id": "vS1X5NAiMTtM",
    "outputId": "0e3ebf72-e11d-4464-b77a-1b1a62365f13"
   },
   "outputs": [
    {
     "name": "stdout",
     "output_type": "stream",
     "text": [
      "Enter your name:srinivas\n",
      "What is your occupation: engineer\n"
     ]
    },
    {
     "data": {
      "text/plain": [
       "'srinivas is an engineer'"
      ]
     },
     "execution_count": 71,
     "metadata": {},
     "output_type": "execute_result"
    }
   ],
   "source": [
    "name = input('Enter your name:')\n",
    "\n",
    "occupation = input('What is your occupation: ')\n",
    "\n",
    "if occupation[0] == 'a' or occupation[0] == 'e'or occupation[0] == 'i' or occupation[0] == 'o' or occupation[0] == 'u':\n",
    "  put = 'an'\n",
    "else:\n",
    "  put = 'a'\n",
    "name + ' is ' + put + ' ' + occupation"
   ]
  },
  {
   "cell_type": "code",
   "execution_count": 72,
   "metadata": {
    "colab": {
     "base_uri": "https://localhost:8080/",
     "height": 52
    },
    "executionInfo": {
     "elapsed": 4150,
     "status": "ok",
     "timestamp": 1680663757141,
     "user": {
      "displayName": "Srijit Panja",
      "userId": "08280687544370309018"
     },
     "user_tz": -330
    },
    "id": "2r7LdVEsXPY1",
    "outputId": "8dd11abb-16d0-4f2e-880d-7924a5d8a454"
   },
   "outputs": [
    {
     "name": "stdout",
     "output_type": "stream",
     "text": [
      "Enter your name:SRINIVAS\n"
     ]
    },
    {
     "data": {
      "text/plain": [
       "'srinivas'"
      ]
     },
     "execution_count": 72,
     "metadata": {},
     "output_type": "execute_result"
    }
   ],
   "source": [
    "name = (input('Enter your name:'))\n",
    "name.lower()"
   ]
  },
  {
   "cell_type": "code",
   "execution_count": 35,
   "metadata": {
    "id": "wEoJMM0gMTtN"
   },
   "outputs": [
    {
     "name": "stdout",
     "output_type": "stream",
     "text": [
      "Enter your age:34\n"
     ]
    },
    {
     "data": {
      "text/plain": [
       "'34'"
      ]
     },
     "execution_count": 35,
     "metadata": {},
     "output_type": "execute_result"
    }
   ],
   "source": [
    "age = input('Enter your age:')\n",
    "age"
   ]
  },
  {
   "cell_type": "code",
   "execution_count": 36,
   "metadata": {
    "id": "10YPjR06MTtN"
   },
   "outputs": [
    {
     "name": "stdout",
     "output_type": "stream",
     "text": [
      "Enter your age:23\n"
     ]
    },
    {
     "data": {
      "text/plain": [
       "23"
      ]
     },
     "execution_count": 36,
     "metadata": {},
     "output_type": "execute_result"
    }
   ],
   "source": [
    "age = int(input('Enter your age:'))\n",
    "age"
   ]
  },
  {
   "cell_type": "code",
   "execution_count": 37,
   "metadata": {
    "id": "jmmGhFyXMTtN"
   },
   "outputs": [
    {
     "data": {
      "text/plain": [
       "int"
      ]
     },
     "execution_count": 37,
     "metadata": {},
     "output_type": "execute_result"
    }
   ],
   "source": [
    "type(age)"
   ]
  },
  {
   "cell_type": "markdown",
   "metadata": {
    "id": "Ir8IzrrVMTtN"
   },
   "source": [
    "## Print statement in python"
   ]
  },
  {
   "cell_type": "code",
   "execution_count": 1,
   "metadata": {
    "colab": {
     "base_uri": "https://localhost:8080/"
    },
    "executionInfo": {
     "elapsed": 361,
     "status": "ok",
     "timestamp": 1680663830650,
     "user": {
      "displayName": "Srijit Panja",
      "userId": "08280687544370309018"
     },
     "user_tz": -330
    },
    "id": "oTyIgkUqMTtN",
    "outputId": "7ea2df95-e649-4414-c01c-7af598dec760",
    "scrolled": true
   },
   "outputs": [
    {
     "name": "stdout",
     "output_type": "stream",
     "text": [
      "Hello world\n"
     ]
    }
   ],
   "source": [
    "print('Hello world')\n"
   ]
  },
  {
   "cell_type": "code",
   "execution_count": 2,
   "metadata": {
    "colab": {
     "base_uri": "https://localhost:8080/",
     "height": 52
    },
    "executionInfo": {
     "elapsed": 5699,
     "status": "ok",
     "timestamp": 1680663855388,
     "user": {
      "displayName": "Srijit Panja",
      "userId": "08280687544370309018"
     },
     "user_tz": -330
    },
    "id": "EuVxs5KTMTtO",
    "outputId": "c91252a4-b034-4cbf-d327-6395a0fa3d2a"
   },
   "outputs": [
    {
     "name": "stdout",
     "output_type": "stream",
     "text": [
      "Enter your name:Raj\n"
     ]
    },
    {
     "data": {
      "text/plain": [
       "'Raj'"
      ]
     },
     "execution_count": 2,
     "metadata": {},
     "output_type": "execute_result"
    }
   ],
   "source": [
    "name1 = input('Enter your name:')\n",
    "name1"
   ]
  },
  {
   "cell_type": "code",
   "execution_count": 11,
   "metadata": {
    "colab": {
     "base_uri": "https://localhost:8080/"
    },
    "executionInfo": {
     "elapsed": 360,
     "status": "ok",
     "timestamp": 1680663860376,
     "user": {
      "displayName": "Srijit Panja",
      "userId": "08280687544370309018"
     },
     "user_tz": -330
    },
    "id": "K6qWGgvZMTtO",
    "outputId": "9347c656-75c4-44f2-c004-1cbc2636531e"
   },
   "outputs": [
    {
     "name": "stdout",
     "output_type": "stream",
     "text": [
      "Hello raj\n"
     ]
    }
   ],
   "source": [
    "print('Hello',name1)"
   ]
  },
  {
   "cell_type": "code",
   "execution_count": 5,
   "metadata": {
    "colab": {
     "base_uri": "https://localhost:8080/"
    },
    "executionInfo": {
     "elapsed": 10,
     "status": "ok",
     "timestamp": 1680663902938,
     "user": {
      "displayName": "Srijit Panja",
      "userId": "08280687544370309018"
     },
     "user_tz": -330
    },
    "id": "M54MmWe8X8CP",
    "outputId": "f893cd4a-3a7d-48d2-e0b4-3da63a53277f"
   },
   "outputs": [
    {
     "name": "stdout",
     "output_type": "stream",
     "text": [
      "Helloraj\n"
     ]
    }
   ],
   "source": [
    "print('Hello'+ name1)"
   ]
  },
  {
   "cell_type": "code",
   "execution_count": 4,
   "metadata": {},
   "outputs": [],
   "source": [
    "age = 35"
   ]
  },
  {
   "cell_type": "code",
   "execution_count": 5,
   "metadata": {
    "id": "JbEk4y_fMTtO"
   },
   "outputs": [
    {
     "name": "stdout",
     "output_type": "stream",
     "text": [
      "Raj is 35 years old\n"
     ]
    }
   ],
   "source": [
    "print(name1,'is',age,'years old')"
   ]
  },
  {
   "cell_type": "code",
   "execution_count": 7,
   "metadata": {
    "id": "Ikhf-AUuMTtO"
   },
   "outputs": [
    {
     "name": "stdout",
     "output_type": "stream",
     "text": [
      "Raj is 35 years old\n"
     ]
    }
   ],
   "source": [
    "## Starndard way of using print statement\n",
    "print('{0} is {1} years old'.format(name1,age)) "
   ]
  },
  {
   "cell_type": "code",
   "execution_count": 8,
   "metadata": {},
   "outputs": [],
   "source": [
    "name ='ramesh'\n",
    "age = 27"
   ]
  },
  {
   "cell_type": "code",
   "execution_count": 9,
   "metadata": {
    "id": "1wmS0b1-MTtO",
    "scrolled": true
   },
   "outputs": [
    {
     "name": "stdout",
     "output_type": "stream",
     "text": [
      "ramesh is 27 years old\n"
     ]
    }
   ],
   "source": [
    "print(f'{name} is {age} years old') # f-string method"
   ]
  },
  {
   "cell_type": "code",
   "execution_count": 42,
   "metadata": {},
   "outputs": [
    {
     "name": "stdout",
     "output_type": "stream",
     "text": [
      "ramesh is 27 years old\n"
     ]
    }
   ],
   "source": [
    "print(name,'is',age,\"years old\")"
   ]
  },
  {
   "cell_type": "code",
   "execution_count": 15,
   "metadata": {},
   "outputs": [
    {
     "name": "stdout",
     "output_type": "stream",
     "text": [
      "Enter your name: Ramesh\n",
      "Enter your age: 40\n",
      "Ramesh is 480 months old\n"
     ]
    }
   ],
   "source": [
    "name2 = input(\"Enter your name: \")\n",
    "age2 = int(input(\"Enter your age: \"))\n",
    "#age2 = 12* age2\n",
    "print(f'{name2} is {12*age2} months old')"
   ]
  },
  {
   "cell_type": "markdown",
   "metadata": {},
   "source": [
    "## Conditional Statements"
   ]
  },
  {
   "cell_type": "code",
   "execution_count": 5,
   "metadata": {},
   "outputs": [
    {
     "name": "stdout",
     "output_type": "stream",
     "text": [
      "7 is a positive number.\n",
      "This is always printed.\n"
     ]
    }
   ],
   "source": [
    "# If\n",
    "num = 7\n",
    "if num > 0:\n",
    "    print(num, \"is a positive number.\") \n",
    "print(\"This is always printed.\")"
   ]
  },
  {
   "cell_type": "code",
   "execution_count": 7,
   "metadata": {
    "id": "tkSOd_YDMTtS"
   },
   "outputs": [
    {
     "name": "stdout",
     "output_type": "stream",
     "text": [
      "Positive number\n"
     ]
    }
   ],
   "source": [
    "# If else:\n",
    "num = 7\n",
    "\n",
    "if (num >= 0):\n",
    "    print(\"Positive number\")\n",
    "else:\n",
    "    print(\"Negative number\")"
   ]
  },
  {
   "cell_type": "code",
   "execution_count": 65,
   "metadata": {},
   "outputs": [
    {
     "name": "stdout",
     "output_type": "stream",
     "text": [
      "Greater than 5\n"
     ]
    }
   ],
   "source": [
    "x = 9\n",
    "if (x<5):\n",
    "    print(\"less than 5\")\n",
    "    if (x == 5):\n",
    "        print(\"Equal to 5\")\n",
    "else:\n",
    "    print(\"Greater than 5\")\n",
    "        \n",
    "        "
   ]
  },
  {
   "cell_type": "code",
   "execution_count": 8,
   "metadata": {
    "colab": {
     "base_uri": "https://localhost:8080/"
    },
    "executionInfo": {
     "elapsed": 374,
     "status": "ok",
     "timestamp": 1680664718209,
     "user": {
      "displayName": "Srijit Panja",
      "userId": "08280687544370309018"
     },
     "user_tz": -330
    },
    "id": "QGqlU_3vMTtS",
    "outputId": "1bdef07e-1e19-4da2-a264-04189933a8ab"
   },
   "outputs": [
    {
     "name": "stdout",
     "output_type": "stream",
     "text": [
      "700\n"
     ]
    }
   ],
   "source": [
    "## Define a function with conditional statement\n",
    "\n",
    "#def max_num(num1,num2,num3):\n",
    "num1 =100\n",
    "num2 =200\n",
    "num3 =700\n",
    "\n",
    "if num1 >= num2 and num1 >= num3:\n",
    "    print(num1) \n",
    "\n",
    "elif num2 >= num1 and num2 >= num3:\n",
    "    print(num2)\n",
    "\n",
    "else:\n",
    "    print(num3)\n",
    "\n",
    "#print (max_num(400,60,1150))\n"
   ]
  },
  {
   "cell_type": "code",
   "execution_count": 21,
   "metadata": {
    "colab": {
     "base_uri": "https://localhost:8080/"
    },
    "executionInfo": {
     "elapsed": 338,
     "status": "ok",
     "timestamp": 1680665130069,
     "user": {
      "displayName": "Srijit Panja",
      "userId": "08280687544370309018"
     },
     "user_tz": -330
    },
    "id": "xkmwdd6GbKc4",
    "outputId": "241ad965-c372-4123-bde0-408f3625bb04"
   },
   "outputs": [
    {
     "data": {
      "text/plain": [
       "1250"
      ]
     },
     "execution_count": 21,
     "metadata": {},
     "output_type": "execute_result"
    }
   ],
   "source": [
    "lst = [400, 60, 1150,1250]\n",
    "\n",
    "max_num = lst[0]\n",
    "\n",
    "for k in lst:\n",
    "    if k > max_num:\n",
    "        max_num = k\n",
    "\n",
    "max_num"
   ]
  },
  {
   "cell_type": "code",
   "execution_count": 49,
   "metadata": {
    "id": "FFQIM7wSMTtS"
   },
   "outputs": [
    {
     "name": "stdout",
     "output_type": "stream",
     "text": [
      "Enter a number: 56\n",
      "Positive number\n"
     ]
    }
   ],
   "source": [
    "# Nested If\n",
    "num = int(input(\"Enter a number: \"))\n",
    "\n",
    "if num >= 0:\n",
    "    if num == 0:\n",
    "        print(\"Zero\")\n",
    "    else:\n",
    "        print(\"Positive number\")\n",
    "else:\n",
    "    print(\"Negative number\")"
   ]
  },
  {
   "cell_type": "markdown",
   "metadata": {
    "id": "g7M0F3xIMTtS"
   },
   "source": [
    "##  For loop"
   ]
  },
  {
   "cell_type": "code",
   "execution_count": 17,
   "metadata": {},
   "outputs": [
    {
     "name": "stdout",
     "output_type": "stream",
     "text": [
      "6\n",
      "Inside for loop\n",
      "8\n",
      "Inside for loop\n",
      "16\n",
      "Inside for loop\n",
      "18\n",
      "Inside for loop\n",
      "20\n",
      "Inside for loop\n",
      "Outside for loop\n"
     ]
    }
   ],
   "source": [
    "L = [3,4,8,9,10]\n",
    "for x in L:\n",
    "    print(2*x)\n",
    "    print(\"Inside for loop\")\n",
    "else:\n",
    "    print(\"Outside for loop\")"
   ]
  },
  {
   "cell_type": "code",
   "execution_count": 2,
   "metadata": {
    "colab": {
     "base_uri": "https://localhost:8080/"
    },
    "executionInfo": {
     "elapsed": 653,
     "status": "ok",
     "timestamp": 1680746116717,
     "user": {
      "displayName": "Srijit Panja",
      "userId": "08280687544370309018"
     },
     "user_tz": -330
    },
    "id": "yoJ1LcofMTtT",
    "outputId": "76f227e8-c052-49bb-a75b-68bc3d3d97be"
   },
   "outputs": [
    {
     "name": "stdout",
     "output_type": "stream",
     "text": [
      "current snack:  pizza\n",
      "Iam inside of for loop\n",
      "current snack:  burger\n",
      "Iam inside of for loop\n",
      "current snack:  shawarma\n",
      "Iam inside of for loop\n",
      "current snack:  franky\n",
      "Iam inside of for loop\n",
      "Good day!\n"
     ]
    }
   ],
   "source": [
    "# for Loop\n",
    "# for each item in sequence , last item reached , no - body of loop , yes , exit loop\n",
    "\n",
    "#Ex:1\n",
    "\n",
    "snacks = ['pizza','burger','shawarma','franky']\n",
    "\n",
    "for x in snacks:\n",
    "    print(\"current snack: \", x)\n",
    "    print(\"Iam inside of for loop\")\n",
    "print(\"Good day!\")\n"
   ]
  },
  {
   "cell_type": "code",
   "execution_count": 67,
   "metadata": {
    "colab": {
     "base_uri": "https://localhost:8080/"
    },
    "executionInfo": {
     "elapsed": 4321,
     "status": "ok",
     "timestamp": 1680747023939,
     "user": {
      "displayName": "Srijit Panja",
      "userId": "08280687544370309018"
     },
     "user_tz": -330
    },
    "id": "Qkk0TOb2MTtT",
    "outputId": "4376c390-da94-4836-a3bf-3319d3201f36"
   },
   "outputs": [
    {
     "name": "stdout",
     "output_type": "stream",
     "text": [
      "number: 6\n",
      "factorial =   720\n"
     ]
    }
   ],
   "source": [
    "#Ex:2\n",
    "\n",
    "num = int(input(\"number: \"))\n",
    "factorial = 1\n",
    "\n",
    "if num < 0:\n",
    "    print(\"must be positive\")\n",
    "elif num == 0:\n",
    "    print(\"factorial = 1\")\n",
    "else:\n",
    "    for i in range(1,num+1):\n",
    "        factorial = factorial * i\n",
    "    print(\"factorial =  \" ,factorial)"
   ]
  },
  {
   "cell_type": "code",
   "execution_count": 11,
   "metadata": {},
   "outputs": [
    {
     "name": "stdout",
     "output_type": "stream",
     "text": [
      "30\n",
      "60\n",
      "9\n",
      "21\n",
      "30\n",
      "Iam out of for loop\n"
     ]
    }
   ],
   "source": [
    "L = [10,20,3,7,9,10]\n",
    "for x in L:\n",
    "    if(x==9):\n",
    "        continue\n",
    "    y = 3*x\n",
    "    print(y)\n",
    "print(\"Iam out of for loop\")"
   ]
  },
  {
   "cell_type": "code",
   "execution_count": 13,
   "metadata": {},
   "outputs": [
    {
     "name": "stdout",
     "output_type": "stream",
     "text": [
      "9\n",
      "11\n",
      "Even number found!\n"
     ]
    }
   ],
   "source": [
    "list2 =[9,11,4,13,15,19]\n",
    "for x in list2:\n",
    "    if(x%2 == 0):\n",
    "        print(\"Even number found!\")\n",
    "        break\n",
    "    print(x)\n"
   ]
  },
  {
   "cell_type": "code",
   "execution_count": 15,
   "metadata": {},
   "outputs": [],
   "source": [
    "for y in list2:\n",
    "    pass"
   ]
  },
  {
   "cell_type": "code",
   "execution_count": 4,
   "metadata": {
    "id": "WTlvVEGtMTtT",
    "scrolled": true
   },
   "outputs": [
    {
     "name": "stdout",
     "output_type": "stream",
     "text": [
      "0 0 0\n",
      "0 0 1\n",
      "0 0 2\n",
      "0 0 3\n",
      "0 1 0\n",
      "0 1 1\n",
      "0 1 2\n",
      "0 1 3\n",
      "0 2 0\n",
      "0 2 1\n",
      "0 2 2\n",
      "0 2 3\n",
      "1 0 0\n",
      "1 0 1\n",
      "1 0 2\n",
      "1 0 3\n",
      "1 1 0\n",
      "1 1 1\n",
      "1 1 2\n",
      "1 1 3\n",
      "1 2 0\n",
      "1 2 1\n",
      "1 2 2\n",
      "1 2 3\n",
      "2 0 0\n",
      "2 0 1\n",
      "2 0 2\n",
      "2 0 3\n",
      "2 1 0\n",
      "2 1 1\n",
      "2 1 2\n",
      "2 1 3\n",
      "2 2 0\n",
      "2 2 1\n",
      "2 2 2\n",
      "2 2 3\n"
     ]
    }
   ],
   "source": [
    "#Nested for loop\n",
    "\n",
    "for i in range(0,3):\n",
    "    for j in range(0,3):\n",
    "        for k in range(0,4):\n",
    "            print(i,j,k)\n"
   ]
  },
  {
   "cell_type": "code",
   "execution_count": 10,
   "metadata": {},
   "outputs": [
    {
     "name": "stdout",
     "output_type": "stream",
     "text": [
      "x=: 0\n",
      "2\n",
      "x=: 1\n",
      "3\n",
      "x=: 3\n",
      "5\n",
      "x=: 4\n",
      "6\n"
     ]
    }
   ],
   "source": [
    "list1 =[2,3,4,5,6]\n",
    "for x in range(5):\n",
    "    if (x==2):\n",
    "        continue\n",
    "    print(\"x=:\", x)\n",
    "    print(list1[x])"
   ]
  },
  {
   "cell_type": "code",
   "execution_count": 26,
   "metadata": {},
   "outputs": [
    {
     "name": "stdout",
     "output_type": "stream",
     "text": [
      "3\n",
      "4\n",
      "6\n",
      "8\n"
     ]
    }
   ],
   "source": [
    "L1 =[3,4,6,8]\n",
    "for x in range(0,4):\n",
    "    print(L1[x])"
   ]
  },
  {
   "cell_type": "code",
   "execution_count": 53,
   "metadata": {
    "id": "iVztU6aIMTtT"
   },
   "outputs": [
    {
     "name": "stdout",
     "output_type": "stream",
     "text": [
      "0\n",
      "1\n",
      "5\n",
      "No items left.\n"
     ]
    }
   ],
   "source": [
    "# For loop with else:\n",
    "digits = [0, 1, 5]\n",
    "\n",
    "for i in digits:\n",
    "    print(i)\n",
    "else:\n",
    "    print(\"No items left.\")"
   ]
  },
  {
   "cell_type": "markdown",
   "metadata": {
    "id": "cniBE-qFMTtU"
   },
   "source": [
    "## While loop"
   ]
  },
  {
   "cell_type": "code",
   "execution_count": 5,
   "metadata": {},
   "outputs": [
    {
     "name": "stdout",
     "output_type": "stream",
     "text": [
      "0 10\n",
      "6 9\n",
      "12 8\n",
      "18 7\n",
      "24 6\n",
      "30 5\n"
     ]
    }
   ],
   "source": [
    "i=0\n",
    "while(i<6):\n",
    "    a=6*i\n",
    "    b=10-i\n",
    "    print(a,b)\n",
    "    i += 1"
   ]
  },
  {
   "cell_type": "code",
   "execution_count": 1,
   "metadata": {
    "id": "Hv3uQzDxMTtU"
   },
   "outputs": [
    {
     "name": "stdout",
     "output_type": "stream",
     "text": [
      "1\n",
      "3\n",
      "6\n",
      "10\n",
      "The sum is 10\n"
     ]
    }
   ],
   "source": [
    "# initialize sum and counter\n",
    "n = 4\n",
    "sum = 0\n",
    "i = 1\n",
    "\n",
    "while i <= n:\n",
    "    sum = sum + i\n",
    "    print(sum)\n",
    "    i = i+1    # update counter\n",
    "    \n",
    "# print the sum\n",
    "print(\"The sum is\", sum)\n"
   ]
  },
  {
   "cell_type": "code",
   "execution_count": 56,
   "metadata": {
    "colab": {
     "base_uri": "https://localhost:8080/"
    },
    "executionInfo": {
     "elapsed": 985,
     "status": "ok",
     "timestamp": 1680747246403,
     "user": {
      "displayName": "Srijit Panja",
      "userId": "08280687544370309018"
     },
     "user_tz": -330
    },
    "id": "vKLOr1lnMTtU",
    "outputId": "27fcf70d-d757-41f9-c6b9-65af8aa9e306"
   },
   "outputs": [
    {
     "name": "stdout",
     "output_type": "stream",
     "text": [
      "Inside loop\n",
      "Inside loop\n",
      "Inside loop\n",
      "Inside else\n"
     ]
    }
   ],
   "source": [
    "# While loop with else\n",
    "# Example to illustrate\n",
    "# the use of else statement\n",
    "# with the while loop\n",
    "\n",
    "counter = 0\n",
    "\n",
    "while counter < 3:\n",
    "    print(\"Inside loop\")\n",
    "    counter = counter + 1\n",
    "else:\n",
    "    print(\"Inside else\")\n"
   ]
  },
  {
   "cell_type": "code",
   "execution_count": 6,
   "metadata": {
    "colab": {
     "base_uri": "https://localhost:8080/"
    },
    "executionInfo": {
     "elapsed": 19,
     "status": "ok",
     "timestamp": 1674761107863,
     "user": {
      "displayName": "Chennaveer Jogur",
      "userId": "08412919184894538156"
     },
     "user_tz": -330
    },
    "id": "sQqSFeGQMTtU",
    "outputId": "cc1e1ef2-1081-4ef8-993c-8b443dae7418"
   },
   "outputs": [
    {
     "name": "stdout",
     "output_type": "stream",
     "text": [
      "Digit:  0\n",
      "Digit:  1\n",
      "Digit:  2\n",
      "Digit:  3\n",
      "Digit:  4\n",
      "Digit:  5\n",
      "Digit:  6\n",
      "Digit:  7\n",
      "Digit:  8\n",
      "Digit:  9\n",
      "Thank you\n"
     ]
    }
   ],
   "source": [
    "#Ex: 1\n",
    "\n",
    "count = 0\n",
    "\n",
    "while count < 10:\n",
    "    print(\"Digit: \", count)\n",
    "    count = count + 1\n",
    "\n",
    "print(\"Thank you\")"
   ]
  },
  {
   "cell_type": "markdown",
   "metadata": {
    "id": "dUxbLL_UMTtU"
   },
   "source": [
    "## Functions"
   ]
  },
  {
   "cell_type": "code",
   "execution_count": 19,
   "metadata": {},
   "outputs": [
    {
     "data": {
      "text/plain": [
       "625"
      ]
     },
     "execution_count": 19,
     "metadata": {},
     "output_type": "execute_result"
    }
   ],
   "source": [
    "def power(x=5,y=4):\n",
    "    z =x**y\n",
    "    return(z)\n",
    "\n",
    "power(10,3)\n",
    "power()"
   ]
  },
  {
   "cell_type": "code",
   "execution_count": 1,
   "metadata": {},
   "outputs": [],
   "source": [
    "def function(x,y,z):\n",
    "    a = x+y-z\n",
    "    return(a)\n"
   ]
  },
  {
   "cell_type": "code",
   "execution_count": 2,
   "metadata": {},
   "outputs": [
    {
     "data": {
      "text/plain": [
       "0"
      ]
     },
     "execution_count": 2,
     "metadata": {},
     "output_type": "execute_result"
    }
   ],
   "source": [
    "function(10,20,30)"
   ]
  },
  {
   "cell_type": "code",
   "execution_count": 20,
   "metadata": {},
   "outputs": [
    {
     "name": "stdout",
     "output_type": "stream",
     "text": [
      "1300000.0\n",
      "2600000.0\n",
      "3900000.0\n",
      "1950000.0\n"
     ]
    }
   ],
   "source": [
    "L = [1000000,2000000,3000000,1500000]\n",
    "def increment(x,i):\n",
    "    for salary in x:\n",
    "        print(i*salary)\n",
    "\n",
    "increment(L,1.3)\n",
    "    "
   ]
  },
  {
   "cell_type": "code",
   "execution_count": 25,
   "metadata": {
    "id": "R1JQdx0zMTtV"
   },
   "outputs": [],
   "source": [
    "def myfunc(name=\"Srinivas\"):\n",
    "    print('Hello', name)"
   ]
  },
  {
   "cell_type": "code",
   "execution_count": 26,
   "metadata": {},
   "outputs": [
    {
     "name": "stdout",
     "output_type": "stream",
     "text": [
      "Hello Ramesh\n"
     ]
    }
   ],
   "source": [
    "myfunc(\"Ramesh\")"
   ]
  },
  {
   "cell_type": "code",
   "execution_count": 7,
   "metadata": {
    "id": "QNODm1HhMTtV"
   },
   "outputs": [],
   "source": [
    "# Variable no of arguments\n",
    "def myfunc(*name):\n",
    "    #print('Hello',name)\n",
    "    for i in name:\n",
    "        print(\"Hello\",i)"
   ]
  },
  {
   "cell_type": "code",
   "execution_count": 10,
   "metadata": {},
   "outputs": [
    {
     "name": "stdout",
     "output_type": "stream",
     "text": [
      "Hello Ram\n",
      "Hello John\n",
      "Hello Ramesh\n"
     ]
    }
   ],
   "source": [
    "myfunc(\"Ram\",\"John\",\"Ramesh\")"
   ]
  },
  {
   "cell_type": "code",
   "execution_count": 26,
   "metadata": {
    "id": "fTJ3HRS5MTtV"
   },
   "outputs": [
    {
     "name": "stdout",
     "output_type": "stream",
     "text": [
      "Hello hi\n"
     ]
    }
   ],
   "source": [
    "myfunc('hi')"
   ]
  },
  {
   "cell_type": "code",
   "execution_count": 2,
   "metadata": {},
   "outputs": [
    {
     "name": "stdout",
     "output_type": "stream",
     "text": [
      "Hello Bill Gates\n",
      "Hello Sundar Pichai\n",
      "Hello Narendra Modi\n"
     ]
    },
    {
     "ename": "KeyError",
     "evalue": "'lname'",
     "output_type": "error",
     "traceback": [
      "\u001b[1;31m---------------------------------------------------------------------------\u001b[0m",
      "\u001b[1;31mKeyError\u001b[0m                                  Traceback (most recent call last)",
      "\u001b[1;32m~\\AppData\\Local\\Temp\\ipykernel_12228\\4105878767.py\u001b[0m in \u001b[0;36m<module>\u001b[1;34m\u001b[0m\n\u001b[0;32m      6\u001b[0m \u001b[0mhello\u001b[0m\u001b[1;33m(\u001b[0m\u001b[0mlname\u001b[0m\u001b[1;33m=\u001b[0m\u001b[1;34m\"Pichai\"\u001b[0m\u001b[1;33m,\u001b[0m \u001b[0mfname\u001b[0m\u001b[1;33m=\u001b[0m\u001b[1;34m\"Sundar\"\u001b[0m\u001b[1;33m)\u001b[0m\u001b[1;33m\u001b[0m\u001b[1;33m\u001b[0m\u001b[0m\n\u001b[0;32m      7\u001b[0m \u001b[0mhello\u001b[0m\u001b[1;33m(\u001b[0m\u001b[0mfname\u001b[0m\u001b[1;33m=\u001b[0m\u001b[1;34m\"Narendra\"\u001b[0m\u001b[1;33m,\u001b[0m \u001b[0mmname\u001b[0m\u001b[1;33m=\u001b[0m\u001b[1;34m\"Damodar\"\u001b[0m\u001b[1;33m,\u001b[0m \u001b[0mlname\u001b[0m\u001b[1;33m=\u001b[0m\u001b[1;34m\"Modi\"\u001b[0m\u001b[1;33m)\u001b[0m\u001b[1;33m\u001b[0m\u001b[1;33m\u001b[0m\u001b[0m\n\u001b[1;32m----> 8\u001b[1;33m \u001b[0mhello\u001b[0m\u001b[1;33m(\u001b[0m\u001b[0mfname\u001b[0m\u001b[1;33m=\u001b[0m\u001b[1;34m\"John\"\u001b[0m\u001b[1;33m)\u001b[0m \u001b[1;31m#gives error\u001b[0m\u001b[1;33m\u001b[0m\u001b[1;33m\u001b[0m\u001b[0m\n\u001b[0m",
      "\u001b[1;32m~\\AppData\\Local\\Temp\\ipykernel_12228\\4105878767.py\u001b[0m in \u001b[0;36mhello\u001b[1;34m(**name)\u001b[0m\n\u001b[0;32m      1\u001b[0m \u001b[1;31m# Keyword arguments\u001b[0m\u001b[1;33m\u001b[0m\u001b[1;33m\u001b[0m\u001b[0m\n\u001b[0;32m      2\u001b[0m \u001b[1;32mdef\u001b[0m \u001b[0mhello\u001b[0m\u001b[1;33m(\u001b[0m\u001b[1;33m**\u001b[0m\u001b[0mname\u001b[0m\u001b[1;33m)\u001b[0m\u001b[1;33m:\u001b[0m\u001b[1;33m\u001b[0m\u001b[1;33m\u001b[0m\u001b[0m\n\u001b[1;32m----> 3\u001b[1;33m     \u001b[0mprint\u001b[0m\u001b[1;33m(\u001b[0m\u001b[1;34m\"Hello\"\u001b[0m\u001b[1;33m,\u001b[0m \u001b[0mname\u001b[0m\u001b[1;33m[\u001b[0m\u001b[1;34m'fname'\u001b[0m\u001b[1;33m]\u001b[0m\u001b[1;33m,\u001b[0m \u001b[0mname\u001b[0m\u001b[1;33m[\u001b[0m\u001b[1;34m'lname'\u001b[0m\u001b[1;33m]\u001b[0m\u001b[1;33m)\u001b[0m\u001b[1;33m\u001b[0m\u001b[1;33m\u001b[0m\u001b[0m\n\u001b[0m\u001b[0;32m      4\u001b[0m \u001b[1;33m\u001b[0m\u001b[0m\n\u001b[0;32m      5\u001b[0m \u001b[0mhello\u001b[0m\u001b[1;33m(\u001b[0m\u001b[0mfname\u001b[0m\u001b[1;33m=\u001b[0m\u001b[1;34m\"Bill\"\u001b[0m\u001b[1;33m,\u001b[0m \u001b[0mlname\u001b[0m\u001b[1;33m=\u001b[0m\u001b[1;34m\"Gates\"\u001b[0m\u001b[1;33m)\u001b[0m\u001b[1;33m\u001b[0m\u001b[1;33m\u001b[0m\u001b[0m\n",
      "\u001b[1;31mKeyError\u001b[0m: 'lname'"
     ]
    }
   ],
   "source": [
    "# Keyword arguments\n",
    "def hello(**name):\n",
    "    print(\"Hello\", name['fname'], name['lname'])\n",
    " \n",
    "hello(fname=\"Bill\", lname=\"Gates\")\n",
    "hello(lname=\"Pichai\", fname=\"Sundar\")\n",
    "hello(fname=\"Narendra\", mname=\"Damodar\", lname=\"Modi\")\n",
    "hello(fname=\"John\") #gives error"
   ]
  },
  {
   "cell_type": "code",
   "execution_count": 8,
   "metadata": {
    "id": "tcFmflyhMTtV"
   },
   "outputs": [],
   "source": [
    "def squares(x=4):\n",
    "    return x**2"
   ]
  },
  {
   "cell_type": "code",
   "execution_count": 11,
   "metadata": {
    "id": "_qRhJTkgMTtV"
   },
   "outputs": [
    {
     "data": {
      "text/plain": [
       "16"
      ]
     },
     "execution_count": 11,
     "metadata": {},
     "output_type": "execute_result"
    }
   ],
   "source": [
    "squares()"
   ]
  },
  {
   "cell_type": "markdown",
   "metadata": {
    "id": "3Yi5dw6OMTtV"
   },
   "source": [
    "## Lambda function"
   ]
  },
  {
   "cell_type": "code",
   "execution_count": 13,
   "metadata": {},
   "outputs": [],
   "source": [
    "z = lambda y: 3*y"
   ]
  },
  {
   "cell_type": "code",
   "execution_count": 14,
   "metadata": {},
   "outputs": [
    {
     "data": {
      "text/plain": [
       "18"
      ]
     },
     "execution_count": 14,
     "metadata": {},
     "output_type": "execute_result"
    }
   ],
   "source": [
    "z(6)"
   ]
  },
  {
   "cell_type": "code",
   "execution_count": 16,
   "metadata": {},
   "outputs": [
    {
     "data": {
      "text/plain": [
       "200"
      ]
     },
     "execution_count": 16,
     "metadata": {},
     "output_type": "execute_result"
    }
   ],
   "source": [
    "x = lambda y,z: y*z\n",
    "x(10,20)"
   ]
  },
  {
   "cell_type": "code",
   "execution_count": 17,
   "metadata": {
    "executionInfo": {
     "elapsed": 379,
     "status": "ok",
     "timestamp": 1680749136373,
     "user": {
      "displayName": "Srijit Panja",
      "userId": "08280687544370309018"
     },
     "user_tz": -330
    },
    "id": "q11n5JNaMTtW"
   },
   "outputs": [],
   "source": [
    "fn = lambda x : x**2"
   ]
  },
  {
   "cell_type": "code",
   "execution_count": 18,
   "metadata": {},
   "outputs": [
    {
     "data": {
      "text/plain": [
       "64"
      ]
     },
     "execution_count": 18,
     "metadata": {},
     "output_type": "execute_result"
    }
   ],
   "source": [
    "fn(8)"
   ]
  },
  {
   "cell_type": "code",
   "execution_count": 20,
   "metadata": {
    "id": "b7vl665PdpOL"
   },
   "outputs": [],
   "source": [
    "def square(n):\n",
    "  return n**2"
   ]
  },
  {
   "cell_type": "code",
   "execution_count": 21,
   "metadata": {
    "colab": {
     "base_uri": "https://localhost:8080/"
    },
    "executionInfo": {
     "elapsed": 917,
     "status": "ok",
     "timestamp": 1680749144392,
     "user": {
      "displayName": "Srijit Panja",
      "userId": "08280687544370309018"
     },
     "user_tz": -330
    },
    "id": "RJmE83UhMTtW",
    "outputId": "63efa6a2-ad52-40a5-d9ef-51221cf47ad1"
   },
   "outputs": [
    {
     "data": {
      "text/plain": [
       "64"
      ]
     },
     "execution_count": 21,
     "metadata": {},
     "output_type": "execute_result"
    }
   ],
   "source": [
    "square(8)"
   ]
  },
  {
   "cell_type": "code",
   "execution_count": 47,
   "metadata": {
    "colab": {
     "base_uri": "https://localhost:8080/"
    },
    "executionInfo": {
     "elapsed": 8,
     "status": "ok",
     "timestamp": 1680749172069,
     "user": {
      "displayName": "Srijit Panja",
      "userId": "08280687544370309018"
     },
     "user_tz": -330
    },
    "id": "MjGsGDVbdOtY",
    "outputId": "90426b6a-1a1e-48ad-e6bd-a03e5373d492"
   },
   "outputs": [
    {
     "data": {
      "text/plain": [
       "36"
      ]
     },
     "execution_count": 47,
     "metadata": {},
     "output_type": "execute_result"
    }
   ],
   "source": [
    "fn(6)"
   ]
  },
  {
   "cell_type": "code",
   "execution_count": 48,
   "metadata": {
    "colab": {
     "base_uri": "https://localhost:8080/"
    },
    "executionInfo": {
     "elapsed": 402,
     "status": "ok",
     "timestamp": 1680749245507,
     "user": {
      "displayName": "Srijit Panja",
      "userId": "08280687544370309018"
     },
     "user_tz": -330
    },
    "id": "hk3Pq__TMTtW",
    "outputId": "a4a9b704-4d68-4126-a1be-fafd82acc281"
   },
   "outputs": [
    {
     "data": {
      "text/plain": [
       "function"
      ]
     },
     "execution_count": 48,
     "metadata": {},
     "output_type": "execute_result"
    }
   ],
   "source": [
    "type(fn)"
   ]
  },
  {
   "cell_type": "code",
   "execution_count": 28,
   "metadata": {
    "colab": {
     "base_uri": "https://localhost:8080/"
    },
    "executionInfo": {
     "elapsed": 389,
     "status": "ok",
     "timestamp": 1680749333680,
     "user": {
      "displayName": "Srijit Panja",
      "userId": "08280687544370309018"
     },
     "user_tz": -330
    },
    "id": "xvOFwVgUMTtW",
    "outputId": "81daed74-b531-4f63-dfbc-286d1a4d43eb"
   },
   "outputs": [
    {
     "data": {
      "text/plain": [
       "['c++', 'c', 'python', 'java', 'mysql123']"
      ]
     },
     "execution_count": 28,
     "metadata": {},
     "output_type": "execute_result"
    }
   ],
   "source": [
    "lst = ['c++','c','python','java','mysql123']\n",
    "lst"
   ]
  },
  {
   "cell_type": "code",
   "execution_count": 30,
   "metadata": {},
   "outputs": [],
   "source": [
    "lst.sort()"
   ]
  },
  {
   "cell_type": "code",
   "execution_count": 31,
   "metadata": {},
   "outputs": [
    {
     "data": {
      "text/plain": [
       "['c', 'c++', 'java', 'mysql123', 'python']"
      ]
     },
     "execution_count": 31,
     "metadata": {},
     "output_type": "execute_result"
    }
   ],
   "source": [
    "lst"
   ]
  },
  {
   "cell_type": "code",
   "execution_count": 32,
   "metadata": {
    "executionInfo": {
     "elapsed": 835,
     "status": "ok",
     "timestamp": 1680749418593,
     "user": {
      "displayName": "Srijit Panja",
      "userId": "08280687544370309018"
     },
     "user_tz": -330
    },
    "id": "p9srZbVJMTtW"
   },
   "outputs": [
    {
     "data": {
      "text/plain": [
       "['c', 'c++', 'java', 'python', 'mysql123']"
      ]
     },
     "execution_count": 32,
     "metadata": {},
     "output_type": "execute_result"
    }
   ],
   "source": [
    "lst.sort(key = lambda x: len(x))\n",
    "lst"
   ]
  },
  {
   "cell_type": "code",
   "execution_count": null,
   "metadata": {},
   "outputs": [],
   "source": []
  },
  {
   "cell_type": "code",
   "execution_count": 24,
   "metadata": {},
   "outputs": [
    {
     "data": {
      "text/plain": [
       "[0, 1, 4, 9, 16, 25, 36, 49, 64, 81]"
      ]
     },
     "execution_count": 24,
     "metadata": {},
     "output_type": "execute_result"
    }
   ],
   "source": [
    "# List Comprehension\n",
    "\n",
    "[x**2 for x in range(10)]"
   ]
  },
  {
   "cell_type": "code",
   "execution_count": 26,
   "metadata": {},
   "outputs": [
    {
     "data": {
      "text/plain": [
       "[1, 3, 5, 7, 9]"
      ]
     },
     "execution_count": 26,
     "metadata": {},
     "output_type": "execute_result"
    }
   ],
   "source": [
    "[x for x in range(10) if x%2 == 1]"
   ]
  },
  {
   "cell_type": "code",
   "execution_count": 27,
   "metadata": {},
   "outputs": [
    {
     "data": {
      "text/plain": [
       "{1: 3, 2: 4, 3: 5, 4: 6, 5: 7}"
      ]
     },
     "execution_count": 27,
     "metadata": {},
     "output_type": "execute_result"
    }
   ],
   "source": [
    "# dictionary comprehension.  allows you to run a for loop on a dictionary and do something \n",
    "# on each item like transforming or filtering and returns a new dictionary.\n",
    "L = [1,2,3,4,5]\n",
    "d = { x:x+2 for x in L}\n",
    "d"
   ]
  },
  {
   "cell_type": "code",
   "execution_count": 10,
   "metadata": {},
   "outputs": [
    {
     "name": "stdout",
     "output_type": "stream",
     "text": [
      "{'A': 4, 'B': 9, 'C': 3, 'D': 4, 'E': 1}\n",
      "{'A': 4, 'B': 9, 'C': 3, 'D': 4, 'E': 1}\n"
     ]
    }
   ],
   "source": [
    "# dictionary comprehension\n",
    "\n",
    "# Lists of keys and values\n",
    "key = ['A','B','C','D','E']\n",
    "value = [4,9,3,4,1]\n",
    "\n",
    "# dict comprehension \n",
    "\n",
    "d = { k:v for (k,v) in zip(key, value)}\n",
    "print (d)\n",
    "\n",
    "# Alternate way of creating dictionary\n",
    "\n",
    "print(dict(zip(key, value)))"
   ]
  },
  {
   "cell_type": "code",
   "execution_count": null,
   "metadata": {},
   "outputs": [],
   "source": []
  }
 ],
 "metadata": {
  "colab": {
   "collapsed_sections": [
    "EU8NIMxbMTs7",
    "3j8SWjWlMTtH",
    "fsMrtH0jMTtL",
    "5fHASFHvMTtM",
    "Ir8IzrrVMTtN",
    "fq-gtp20MTtO",
    "O7VTpz4bMTtR",
    "g7M0F3xIMTtS",
    "cniBE-qFMTtU"
   ],
   "provenance": []
  },
  "kernelspec": {
   "display_name": "Python 3 (ipykernel)",
   "language": "python",
   "name": "python3"
  },
  "language_info": {
   "codemirror_mode": {
    "name": "ipython",
    "version": 3
   },
   "file_extension": ".py",
   "mimetype": "text/x-python",
   "name": "python",
   "nbconvert_exporter": "python",
   "pygments_lexer": "ipython3",
   "version": "3.9.13"
  }
 },
 "nbformat": 4,
 "nbformat_minor": 1
}
