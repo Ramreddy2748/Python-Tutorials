{
 "cells": [
  {
   "cell_type": "code",
   "execution_count": 1,
   "id": "60741ed5",
   "metadata": {},
   "outputs": [],
   "source": [
    "import functools"
   ]
  },
  {
   "cell_type": "code",
   "execution_count": 2,
   "id": "ecfac825",
   "metadata": {},
   "outputs": [],
   "source": [
    "numbers = [1, 2, 3, 4, 5, 6, 7, 8, 9, 10]"
   ]
  },
  {
   "cell_type": "code",
   "execution_count": 3,
   "id": "370b18fe",
   "metadata": {},
   "outputs": [],
   "source": [
    "even_numbers = [x for x in numbers if x % 2 == 0]  #List comprhension with if"
   ]
  },
  {
   "cell_type": "code",
   "execution_count": 4,
   "id": "7533780d",
   "metadata": {},
   "outputs": [
    {
     "name": "stdout",
     "output_type": "stream",
     "text": [
      "[2, 4, 6, 8, 10]\n"
     ]
    }
   ],
   "source": [
    "print(even_numbers)"
   ]
  },
  {
   "cell_type": "code",
   "execution_count": 5,
   "id": "500f20bd",
   "metadata": {},
   "outputs": [],
   "source": [
    "odd_numbers=[x for x in numbers if x%2!=0]"
   ]
  },
  {
   "cell_type": "code",
   "execution_count": 6,
   "id": "c3bec3b6",
   "metadata": {},
   "outputs": [
    {
     "name": "stdout",
     "output_type": "stream",
     "text": [
      "[1, 3, 5, 7, 9]\n"
     ]
    }
   ],
   "source": [
    "print(odd_numbers)"
   ]
  },
  {
   "cell_type": "code",
   "execution_count": 8,
   "id": "880f3f17",
   "metadata": {},
   "outputs": [],
   "source": [
    "k=lambda m,n:m+n"
   ]
  },
  {
   "cell_type": "code",
   "execution_count": 9,
   "id": "291b0f6f",
   "metadata": {},
   "outputs": [
    {
     "name": "stdout",
     "output_type": "stream",
     "text": [
      "11\n"
     ]
    }
   ],
   "source": [
    "print(k(8,3))"
   ]
  },
  {
   "cell_type": "code",
   "execution_count": 10,
   "id": "b2583499",
   "metadata": {},
   "outputs": [
    {
     "name": "stdout",
     "output_type": "stream",
     "text": [
      "32\n"
     ]
    }
   ],
   "source": [
    "z=lambda m,n:m**n\n",
    "print(z(2,5))"
   ]
  },
  {
   "cell_type": "code",
   "execution_count": 13,
   "id": "b0bd1d18",
   "metadata": {},
   "outputs": [
    {
     "name": "stdout",
     "output_type": "stream",
     "text": [
      "[1, 2, 3, 4, 5, 6]\n"
     ]
    }
   ],
   "source": [
    "m=[1,2,3,4,5,6]\n",
    "m=sorted(m,key=lambda x:x)\n",
    "print(m)"
   ]
  },
  {
   "cell_type": "code",
   "execution_count": 14,
   "id": "df8b6797",
   "metadata": {},
   "outputs": [
    {
     "name": "stdout",
     "output_type": "stream",
     "text": [
      "[6, 5, 4, 3, 2, 1]\n"
     ]
    }
   ],
   "source": [
    "m=[1,2,3,4,5,6]\n",
    "m=sorted(m,key=lambda x:-x)\n",
    "print(m)"
   ]
  },
  {
   "cell_type": "code",
   "execution_count": 16,
   "id": "60f0cb9d",
   "metadata": {},
   "outputs": [
    {
     "name": "stdout",
     "output_type": "stream",
     "text": [
      "[1, 4, 9, 16, 25, 16, 25, 36]\n"
     ]
    }
   ],
   "source": [
    "n1=[1,2,3,4,5,4,5,6]\n",
    "k=list(map(lambda x:x*x,n1))\n",
    "print(k)"
   ]
  },
  {
   "cell_type": "code",
   "execution_count": 19,
   "id": "8500d60c",
   "metadata": {},
   "outputs": [
    {
     "name": "stdout",
     "output_type": "stream",
     "text": [
      "[2, 4, 4, 6]\n"
     ]
    }
   ],
   "source": [
    "s=list(filter(lambda x:x%2==0,n1))\n",
    "print(s)"
   ]
  },
  {
   "cell_type": "code",
   "execution_count": 20,
   "id": "c099946f",
   "metadata": {},
   "outputs": [
    {
     "name": "stdout",
     "output_type": "stream",
     "text": [
      "[False, True, False, True, False, True, False, True]\n"
     ]
    }
   ],
   "source": [
    "k=list(map(lambda x:x%2==0,n1))\n",
    "print(k)"
   ]
  },
  {
   "cell_type": "code",
   "execution_count": 23,
   "id": "e45fbd75",
   "metadata": {},
   "outputs": [
    {
     "name": "stdout",
     "output_type": "stream",
     "text": [
      "30\n"
     ]
    }
   ],
   "source": [
    "z=functools.reduce(lambda x,y:x+y,n1)\n",
    "print(z)"
   ]
  },
  {
   "cell_type": "code",
   "execution_count": 24,
   "id": "1925dc1d",
   "metadata": {},
   "outputs": [
    {
     "name": "stdout",
     "output_type": "stream",
     "text": [
      "30\n"
     ]
    }
   ],
   "source": [
    "res=0\n",
    "for x in n1:\n",
    "    res+=x\n",
    "print(res)"
   ]
  },
  {
   "cell_type": "code",
   "execution_count": 26,
   "id": "59323031",
   "metadata": {},
   "outputs": [
    {
     "name": "stdout",
     "output_type": "stream",
     "text": [
      "[(1, 'john'), (2, 'crane'), (3, 'tress')]\n"
     ]
    }
   ],
   "source": [
    "d=[\"john\",\"crane\",\"tress\"]\n",
    "l1=list(zip(n1,d))\n",
    "print(l1)"
   ]
  },
  {
   "cell_type": "code",
   "execution_count": 29,
   "id": "2ab3d6da",
   "metadata": {},
   "outputs": [
    {
     "name": "stdout",
     "output_type": "stream",
     "text": [
      "(1, 2, 3)\n",
      "('john', 'crane', 'tress')\n"
     ]
    }
   ],
   "source": [
    "k=list(zip(*l1))\n",
    "o,p=k\n",
    "print(o)\n",
    "print(p)"
   ]
  },
  {
   "cell_type": "code",
   "execution_count": 30,
   "id": "b8f53fa8",
   "metadata": {},
   "outputs": [
    {
     "name": "stdout",
     "output_type": "stream",
     "text": [
      "zip [(1, 'a'), (2, 'b'), (3, 'c'), (4, 'd')]\n",
      "(1, 2, 3, 4) ('a', 'b', 'c', 'd')\n"
     ]
    }
   ],
   "source": [
    "m=[1,2,3,4,5,6,7,8,9]\n",
    "s=[\"a\",\"b\",\"c\",\"d\"]\n",
    "k=list(zip(m,s))\n",
    "print(\"zip\",k)\n",
    "w=list(zip(*k))\n",
    "m1,s1=w\n",
    "print(m1,s1)"
   ]
  },
  {
   "cell_type": "code",
   "execution_count": null,
   "id": "b46b10a1",
   "metadata": {},
   "outputs": [],
   "source": []
  }
 ],
 "metadata": {
  "kernelspec": {
   "display_name": "Python 3 (ipykernel)",
   "language": "python",
   "name": "python3"
  },
  "language_info": {
   "codemirror_mode": {
    "name": "ipython",
    "version": 3
   },
   "file_extension": ".py",
   "mimetype": "text/x-python",
   "name": "python",
   "nbconvert_exporter": "python",
   "pygments_lexer": "ipython3",
   "version": "3.11.4"
  }
 },
 "nbformat": 4,
 "nbformat_minor": 5
}
