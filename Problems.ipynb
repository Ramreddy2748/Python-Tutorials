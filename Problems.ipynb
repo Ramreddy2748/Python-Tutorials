{
 "cells": [
  {
   "cell_type": "code",
   "execution_count": 12,
   "id": "25e5aceb",
   "metadata": {},
   "outputs": [
    {
     "name": "stdout",
     "output_type": "stream",
     "text": [
      "surname: seelam\n",
      "given name: ramireddy\n"
     ]
    }
   ],
   "source": [
    "surname = input(\"surname: \").capitalize()\n",
    "given_name = input(\"given name: \").capitalize()"
   ]
  },
  {
   "cell_type": "code",
   "execution_count": 15,
   "id": "2ea94dc0",
   "metadata": {},
   "outputs": [
    {
     "name": "stdout",
     "output_type": "stream",
     "text": [
      "Full name:  Ramireddy seelam\n"
     ]
    }
   ],
   "source": [
    "full_name = given_name+\" \" + surname\n",
    "print(\"Full name: \", full_name)"
   ]
  },
  {
   "cell_type": "code",
   "execution_count": 11,
   "id": "0ee5c221",
   "metadata": {},
   "outputs": [
    {
     "name": "stdout",
     "output_type": "stream",
     "text": [
      "Short name:  S. ramireddy\n"
     ]
    }
   ],
   "source": [
    "short_name = surname[0].upper() + \". \" + given_name\n",
    "print(\"Short name: \", short_name)"
   ]
  },
  {
   "cell_type": "code",
   "execution_count": 7,
   "id": "42b5a550",
   "metadata": {},
   "outputs": [
    {
     "name": "stdout",
     "output_type": "stream",
     "text": [
      "Limited given name:  ramireddy\n"
     ]
    }
   ],
   "source": [
    "limited_given_name = given_name[:15]\n",
    "print(\"Limited given name: \", limited_given_name)"
   ]
  },
  {
   "cell_type": "code",
   "execution_count": 26,
   "id": "b7749114",
   "metadata": {},
   "outputs": [],
   "source": [
    "punctuation_marks = [\".\", \",\", \"?\", \"!\", '\"', \":\", \";\", \"—\", \"-\", \"(\", \")\", \"'\", \"...\", \"[\", \"]\", \"/\", \"&\"]\n",
    "str1=\"Politics and law may be inseparable, but the first may sometimes overshadow the second, especially when it comes to prosecution of political leaders. An ongoing example is the spike in the activity of the Enforcement Directorate (ED) in Tamil Nadu. Close on the heels of the arrest of V. Senthilbalaji, now a Minister without portfolio in the DMK regime, and the legal wrangling over the legality of his arrest and remand, another high-profile Minister, K. Ponmudy, is under the ED’s investigation. While the agency may have good reason to investigate and prosecute them, it does appear that they have been chosen for such action from among many political functionaries in the State who have pending probes against them. Both Mr. Senthilbalaji, who has now been shifted from a private hospital to a prison in Chennai, and Mr. Ponmudy, the Minister for Higher Education, face serious charges.\""
   ]
  },
  {
   "cell_type": "code",
   "execution_count": 27,
   "id": "dfa154a6",
   "metadata": {},
   "outputs": [
    {
     "name": "stdout",
     "output_type": "stream",
     "text": [
      "Politics and law may be inseparable but the first may sometimes overshadow the second especially when it comes to prosecution of political leaders An ongoing example is the spike in the activity of the Enforcement Directorate ED in Tamil Nadu Close on the heels of the arrest of V Senthilbalaji now a Minister without portfolio in the DMK regime and the legal wrangling over the legality of his arrest and remand another highprofile Minister K Ponmudy is under the ED’s investigation While the agency may have good reason to investigate and prosecute them it does appear that they have been chosen for such action from among many political functionaries in the State who have pending probes against them Both Mr Senthilbalaji who has now been shifted from a private hospital to a prison in Chennai and Mr Ponmudy the Minister for Higher Education face serious charges\n"
     ]
    }
   ],
   "source": [
    "for i in punctuation_marks:\n",
    "    str1 = str1.replace(i, \"\")\n",
    "print(str1)"
   ]
  },
  {
   "cell_type": "code",
   "execution_count": 37,
   "id": "ec13a1b8",
   "metadata": {},
   "outputs": [
    {
     "name": "stdout",
     "output_type": "stream",
     "text": [
      "146\n",
      "['Politics', 'and', 'law', 'may', 'be', 'inseparable', 'but', 'the', 'first', 'may', 'sometimes', 'overshadow', 'the', 'second', 'especially', 'when', 'it', 'comes', 'to', 'prosecution', 'of', 'political', 'leaders', 'An', 'ongoing', 'example', 'is', 'the', 'spike', 'in', 'the', 'activity', 'of', 'the', 'Enforcement', 'Directorate', 'ED', 'in', 'Tamil', 'Nadu', 'Close', 'on', 'the', 'heels', 'of', 'the', 'arrest', 'of', 'V', 'Senthilbalaji', 'now', 'a', 'Minister', 'without', 'portfolio', 'in', 'the', 'DMK', 'regime', 'and', 'the', 'legal', 'wrangling', 'over', 'the', 'legality', 'of', 'his', 'arrest', 'and', 'remand', 'another', 'highprofile', 'Minister', 'K', 'Ponmudy', 'is', 'under', 'the', 'ED’s', 'investigation', 'While', 'the', 'agency', 'may', 'have', 'good', 'reason', 'to', 'investigate', 'and', 'prosecute', 'them', 'it', 'does', 'appear', 'that', 'they', 'have', 'been']\n"
     ]
    }
   ],
   "source": [
    "L1=str1.split()\n",
    "print(len(L1))\n",
    "L1=L1[:100]\n",
    "print(L1)"
   ]
  },
  {
   "cell_type": "code",
   "execution_count": 39,
   "id": "ce13ff75",
   "metadata": {},
   "outputs": [
    {
     "name": "stdout",
     "output_type": "stream",
     "text": [
      "{'Politics': 1, 'and': 4, 'law': 1, 'may': 3, 'be': 1, 'inseparable': 1, 'but': 1, 'the': 12, 'first': 1, 'sometimes': 1, 'overshadow': 1, 'second': 1, 'especially': 1, 'when': 1, 'it': 2, 'comes': 1, 'to': 2, 'prosecution': 1, 'of': 5, 'political': 1, 'leaders': 1, 'An': 1, 'ongoing': 1, 'example': 1, 'is': 2, 'spike': 1, 'in': 3, 'activity': 1, 'Enforcement': 1, 'Directorate': 1, 'ED': 1, 'Tamil': 1, 'Nadu': 1, 'Close': 1, 'on': 1, 'heels': 1, 'arrest': 2, 'V': 1, 'Senthilbalaji': 1, 'now': 1, 'a': 1, 'Minister': 2, 'without': 1, 'portfolio': 1, 'DMK': 1, 'regime': 1, 'legal': 1, 'wrangling': 1, 'over': 1, 'legality': 1, 'his': 1, 'remand': 1, 'another': 1, 'highprofile': 1, 'K': 1, 'Ponmudy': 1, 'under': 1, 'ED’s': 1, 'investigation': 1, 'While': 1, 'agency': 1, 'have': 2, 'good': 1, 'reason': 1, 'investigate': 1, 'prosecute': 1, 'them': 1, 'does': 1, 'appear': 1, 'that': 1, 'they': 1, 'been': 1}\n"
     ]
    }
   ],
   "source": [
    "d1={}\n",
    "for i in L1:\n",
    "    if i in d1:\n",
    "        d1[i]+=1\n",
    "    else:\n",
    "        d1[i]=1\n",
    "print(d1)"
   ]
  },
  {
   "cell_type": "code",
   "execution_count": 40,
   "id": "1ad487a3",
   "metadata": {},
   "outputs": [
    {
     "name": "stdout",
     "output_type": "stream",
     "text": [
      "        word  No of occurrences\n",
      "0   Politics                  1\n",
      "1        and                  4\n",
      "2        law                  1\n",
      "3        may                  3\n",
      "4         be                  1\n",
      "..       ...                ...\n",
      "95    appear                  1\n",
      "96      that                  1\n",
      "97      they                  1\n",
      "98      have                  2\n",
      "99      been                  1\n",
      "\n",
      "[100 rows x 2 columns]\n"
     ]
    }
   ],
   "source": [
    "import pandas as pd\n",
    "df = pd.DataFrame({'word': L1, 'No of occurrences': [d1[word] for word in L1]})\n",
    "print(df)"
   ]
  },
  {
   "cell_type": "code",
   "execution_count": 1,
   "id": "b332a0c8",
   "metadata": {},
   "outputs": [
    {
     "name": "stdout",
     "output_type": "stream",
     "text": [
      "Politics and law may be inseparable but the first may sometimes overshadow the second especially when it comes to prosecution of political leaders An ongoing example is the spike in the activity of the Enforcement Directorate ED in Tamil Nadu Close on the heels of the arrest of V Senthilbalaji now a Minister without portfolio in the DMK regime and the legal wrangling over the legality of his arrest and remand another highprofile Minister K Ponmudy is under the ED’s investigation While the agency may have good reason to investigate and prosecute them it does appear that they have been chosen for such action from among many political functionaries in the State who have pending probes against them Both Mr Senthilbalaji who has now been shifted from a private hospital to a prison in Chennai and Mr Ponmudy the Minister for Higher Education face serious charges\n",
      "L1 ['Politics', 'and', 'law', 'may', 'be', 'inseparable', 'but', 'the', 'first', 'may', 'sometimes', 'overshadow', 'the', 'second', 'especially', 'when', 'it', 'comes', 'to', 'prosecution', 'of', 'political', 'leaders', 'An', 'ongoing', 'example', 'is', 'the', 'spike', 'in', 'the', 'activity', 'of', 'the', 'Enforcement', 'Directorate', 'ED', 'in', 'Tamil', 'Nadu', 'Close', 'on', 'the', 'heels', 'of', 'the', 'arrest', 'of', 'V', 'Senthilbalaji', 'now', 'a', 'Minister', 'without', 'portfolio', 'in', 'the', 'DMK', 'regime', 'and', 'the', 'legal', 'wrangling', 'over', 'the', 'legality', 'of', 'his', 'arrest', 'and', 'remand', 'another', 'highprofile', 'Minister', 'K', 'Ponmudy', 'is', 'under', 'the', 'ED’s', 'investigation', 'While', 'the', 'agency', 'may', 'have', 'good', 'reason', 'to', 'investigate', 'and', 'prosecute', 'them', 'it', 'does', 'appear', 'that', 'they', 'have', 'been', 'chosen', 'for', 'such', 'action', 'from', 'among', 'many', 'political', 'functionaries', 'in', 'the', 'State', 'who', 'have', 'pending', 'probes', 'against', 'them', 'Both', 'Mr', 'Senthilbalaji', 'who', 'has', 'now', 'been', 'shifted', 'from', 'a', 'private', 'hospital', 'to', 'a', 'prison', 'in', 'Chennai', 'and', 'Mr', 'Ponmudy', 'the', 'Minister', 'for', 'Higher', 'Education', 'face', 'serious', 'charges']\n",
      "{'Politics': 1, 'and': 5, 'law': 1, 'may': 3, 'be': 1, 'inseparable': 1, 'but': 1, 'the': 14, 'first': 1, 'sometimes': 1, 'overshadow': 1, 'second': 1, 'especially': 1, 'when': 1, 'it': 2, 'comes': 1, 'to': 3, 'prosecution': 1, 'of': 5, 'political': 2, 'leaders': 1, 'An': 1, 'ongoing': 1, 'example': 1, 'is': 2, 'spike': 1, 'in': 5, 'activity': 1, 'Enforcement': 1, 'Directorate': 1, 'ED': 1, 'Tamil': 1, 'Nadu': 1, 'Close': 1, 'on': 1, 'heels': 1, 'arrest': 2, 'V': 1, 'Senthilbalaji': 2, 'now': 2, 'a': 3, 'Minister': 3, 'without': 1, 'portfolio': 1, 'DMK': 1, 'regime': 1, 'legal': 1, 'wrangling': 1, 'over': 1, 'legality': 1, 'his': 1, 'remand': 1, 'another': 1, 'highprofile': 1, 'K': 1, 'Ponmudy': 2, 'under': 1, 'ED’s': 1, 'investigation': 1, 'While': 1, 'agency': 1, 'have': 3, 'good': 1, 'reason': 1, 'investigate': 1, 'prosecute': 1, 'them': 2, 'does': 1, 'appear': 1, 'that': 1, 'they': 1, 'been': 2, 'chosen': 1, 'for': 2, 'such': 1, 'action': 1, 'from': 2, 'among': 1, 'many': 1, 'functionaries': 1, 'State': 1, 'who': 2, 'pending': 1, 'probes': 1, 'against': 1, 'Both': 1, 'Mr': 2, 'has': 1, 'shifted': 1, 'private': 1, 'hospital': 1, 'prison': 1, 'Chennai': 1, 'Higher': 1, 'Education': 1, 'face': 1, 'serious': 1, 'charges': 1}\n",
      "df           word  No of occurrences\n",
      "0     Politics                  1\n",
      "1          and                  5\n",
      "2          law                  1\n",
      "3          may                  3\n",
      "4           be                  1\n",
      "..         ...                ...\n",
      "141     Higher                  1\n",
      "142  Education                  1\n",
      "143       face                  1\n",
      "144    serious                  1\n",
      "145    charges                  1\n",
      "\n",
      "[146 rows x 2 columns]\n"
     ]
    }
   ],
   "source": [
    "import word_count as "
   ]
  },
  {
   "cell_type": "code",
   "execution_count": 8,
   "id": "e3ad9676",
   "metadata": {},
   "outputs": [
    {
     "name": "stdout",
     "output_type": "stream",
     "text": [
      "Step 1:\n",
      "Politics and law may be inseparable but the first may sometimes overshadow the second especially when it comes to prosecution of political leaders An ongoing example is the spike in the activity of the Enforcement Directorate ED in Tamil Nadu Close on the heels of the arrest of V Senthilbalaji now a Minister without portfolio in the DMK regime and the legal wrangling over the legality of his arrest and remand another highprofile Minister K Ponmudy is under the ED’s investigation While the agency may have good reason to investigate and prosecute them it does appear that they have been chosen for such action from among many political functionaries in the State who have pending probes against them Both Mr Senthilbalaji who has now been shifted from a private hospital to a prison in Chennai and Mr Ponmudy the Minister for Higher Education face serious charges\n",
      "Step 2\n",
      "['Politics', 'and', 'law', 'may', 'be', 'inseparable', 'but', 'the', 'first', 'may', 'sometimes', 'overshadow', 'the', 'second', 'especially', 'when', 'it', 'comes', 'to', 'prosecution', 'of', 'political', 'leaders', 'An', 'ongoing', 'example', 'is', 'the', 'spike', 'in', 'the', 'activity', 'of', 'the', 'Enforcement', 'Directorate', 'ED', 'in', 'Tamil', 'Nadu', 'Close', 'on', 'the', 'heels', 'of', 'the', 'arrest', 'of', 'V', 'Senthilbalaji', 'now', 'a', 'Minister', 'without', 'portfolio', 'in', 'the', 'DMK', 'regime', 'and', 'the', 'legal', 'wrangling', 'over', 'the', 'legality', 'of', 'his', 'arrest', 'and', 'remand', 'another', 'highprofile', 'Minister', 'K', 'Ponmudy', 'is', 'under', 'the', 'ED’s', 'investigation', 'While', 'the', 'agency', 'may', 'have', 'good', 'reason', 'to', 'investigate', 'and', 'prosecute', 'them', 'it', 'does', 'appear', 'that', 'they', 'have', 'been', 'chosen', 'for', 'such', 'action', 'from', 'among', 'many', 'political', 'functionaries', 'in', 'the', 'State', 'who', 'have', 'pending', 'probes', 'against', 'them', 'Both', 'Mr', 'Senthilbalaji', 'who', 'has', 'now', 'been', 'shifted', 'from', 'a', 'private', 'hospital', 'to', 'a', 'prison', 'in', 'Chennai', 'and', 'Mr', 'Ponmudy', 'the', 'Minister', 'for', 'Higher', 'Education', 'face', 'serious', 'charges']\n",
      "Step 3\n",
      "{'Politics': 1, 'and': 5, 'law': 1, 'may': 3, 'be': 1, 'inseparable': 1, 'but': 1, 'the': 14, 'first': 1, 'sometimes': 1, 'overshadow': 1, 'second': 1, 'especially': 1, 'when': 1, 'it': 2, 'comes': 1, 'to': 3, 'prosecution': 1, 'of': 5, 'political': 2, 'leaders': 1, 'An': 1, 'ongoing': 1, 'example': 1, 'is': 2, 'spike': 1, 'in': 5, 'activity': 1, 'Enforcement': 1, 'Directorate': 1, 'ED': 1, 'Tamil': 1, 'Nadu': 1, 'Close': 1, 'on': 1, 'heels': 1, 'arrest': 2, 'V': 1, 'Senthilbalaji': 2, 'now': 2, 'a': 3, 'Minister': 3, 'without': 1, 'portfolio': 1, 'DMK': 1, 'regime': 1, 'legal': 1, 'wrangling': 1, 'over': 1, 'legality': 1, 'his': 1, 'remand': 1, 'another': 1, 'highprofile': 1, 'K': 1, 'Ponmudy': 2, 'under': 1, 'ED’s': 1, 'investigation': 1, 'While': 1, 'agency': 1, 'have': 3, 'good': 1, 'reason': 1, 'investigate': 1, 'prosecute': 1, 'them': 2, 'does': 1, 'appear': 1, 'that': 1, 'they': 1, 'been': 2, 'chosen': 1, 'for': 2, 'such': 1, 'action': 1, 'from': 2, 'among': 1, 'many': 1, 'functionaries': 1, 'State': 1, 'who': 2, 'pending': 1, 'probes': 1, 'against': 1, 'Both': 1, 'Mr': 2, 'has': 1, 'shifted': 1, 'private': 1, 'hospital': 1, 'prison': 1, 'Chennai': 1, 'Higher': 1, 'Education': 1, 'face': 1, 'serious': 1, 'charges': 1}\n",
      "Step 4\n",
      "          word  No of occurrences\n",
      "0     Politics                  1\n",
      "1          and                  5\n",
      "2          law                  1\n",
      "3          may                  3\n",
      "4           be                  1\n",
      "..         ...                ...\n",
      "141     Higher                  1\n",
      "142  Education                  1\n",
      "143       face                  1\n",
      "144    serious                  1\n",
      "145    charges                  1\n",
      "\n",
      "[146 rows x 2 columns]\n"
     ]
    }
   ],
   "source": [
    "import word_count\n",
    "# Import the word_count module\n",
    "\n",
    "\n",
    "# Input string\n",
    "input_string = \"Politics and law may be inseparable, but the first may sometimes overshadow the second, especially when it comes to prosecution of political leaders. An ongoing example is the spike in the activity of the Enforcement Directorate (ED) in Tamil Nadu. Close on the heels of the arrest of V. Senthilbalaji, now a Minister without portfolio in the DMK regime, and the legal wrangling over the legality of his arrest and remand, another high-profile Minister, K. Ponmudy, is under the ED’s investigation. While the agency may have good reason to investigate and prosecute them, it does appear that they have been chosen for such action from among many political functionaries in the State who have pending probes against them. Both Mr. Senthilbalaji, who has now been shifted from a private hospital to a prison in Chennai, and Mr. Ponmudy, the Minister for Higher Education, face serious charges.\"\n",
    "\n",
    "# Step 1: Remove punctuation\n",
    "str2 = word_count.remove_punc(input_string)\n",
    "print(\"Step 1:\")\n",
    "print(str2)\n",
    "\n",
    "# Step 2: Split the string into words\n",
    "L1 = word_count.word_split(str2)\n",
    "print(\"Step 2\")\n",
    "print(L1)\n",
    "\n",
    "# Step 3: Create a dictionary with word frequency\n",
    "d1 = word_count.word_dict(L1)\n",
    "print(\"Step 3\")\n",
    "print(d1)\n",
    "\n",
    "# Step 4: Create a DataFrame\n",
    "df = word_count.word_freq_table(d1)\n",
    "print(\"Step 4\")\n",
    "print(df)\n"
   ]
  },
  {
   "cell_type": "code",
   "execution_count": null,
   "id": "2247c6b3",
   "metadata": {},
   "outputs": [],
   "source": []
  }
 ],
 "metadata": {
  "kernelspec": {
   "display_name": "Python 3 (ipykernel)",
   "language": "python",
   "name": "python3"
  },
  "language_info": {
   "codemirror_mode": {
    "name": "ipython",
    "version": 3
   },
   "file_extension": ".py",
   "mimetype": "text/x-python",
   "name": "python",
   "nbconvert_exporter": "python",
   "pygments_lexer": "ipython3",
   "version": "3.11.4"
  }
 },
 "nbformat": 4,
 "nbformat_minor": 5
}
